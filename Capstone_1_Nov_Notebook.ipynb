{
  "nbformat": 4,
  "nbformat_minor": 0,
  "metadata": {
    "colab": {
      "name": "Capstone1.2.ipynb",
      "provenance": [],
      "authorship_tag": "ABX9TyNbC9D66aUEEYoHD6/43kFB",
      "include_colab_link": true
    },
    "kernelspec": {
      "name": "python3",
      "display_name": "Python 3"
    }
  },
  "cells": [
    {
      "cell_type": "markdown",
      "metadata": {
        "id": "view-in-github",
        "colab_type": "text"
      },
      "source": [
        "<a href=\"https://colab.research.google.com/github/hobediente/eCommerce_AB_Test/blob/master/Capstone_1_Nov_Notebook.ipynb\" target=\"_parent\"><img src=\"https://colab.research.google.com/assets/colab-badge.svg\" alt=\"Open In Colab\"/></a>"
      ]
    },
    {
      "cell_type": "code",
      "metadata": {
        "id": "0XKuJId6TGXh",
        "colab_type": "code",
        "colab": {}
      },
      "source": [
        "#import appropriate libraries\n",
        "import pandas as pd\n",
        "import numpy as np\n",
        "from scipy import stats\n",
        "import seaborn as sns\n",
        "%matplotlib inline\n",
        "import matplotlib.pyplot as plt"
      ],
      "execution_count": 0,
      "outputs": []
    },
    {
      "cell_type": "code",
      "metadata": {
        "id": "rTFh7-0TTNM3",
        "colab_type": "code",
        "outputId": "01b63759-85fe-4547-8372-3b31621af705",
        "colab": {
          "base_uri": "https://localhost:8080/",
          "height": 122
        }
      },
      "source": [
        "from google.colab import drive\n",
        "drive.mount('/content/drive')"
      ],
      "execution_count": 0,
      "outputs": [
        {
          "output_type": "stream",
          "text": [
            "Go to this URL in a browser: https://accounts.google.com/o/oauth2/auth?client_id=947318989803-6bn6qk8qdgf4n4g3pfee6491hc0brc4i.apps.googleusercontent.com&redirect_uri=urn%3aietf%3awg%3aoauth%3a2.0%3aoob&response_type=code&scope=email%20https%3a%2f%2fwww.googleapis.com%2fauth%2fdocs.test%20https%3a%2f%2fwww.googleapis.com%2fauth%2fdrive%20https%3a%2f%2fwww.googleapis.com%2fauth%2fdrive.photos.readonly%20https%3a%2f%2fwww.googleapis.com%2fauth%2fpeopleapi.readonly\n",
            "\n",
            "Enter your authorization code:\n",
            "··········\n",
            "Mounted at /content/drive\n"
          ],
          "name": "stdout"
        }
      ]
    },
    {
      "cell_type": "code",
      "metadata": {
        "id": "s1Y_yNi_TQ6W",
        "colab_type": "code",
        "colab": {}
      },
      "source": [
        "path= \"/content/drive/My Drive/2019-Nov.csv\"\n",
        "df = pd.read_csv(path)"
      ],
      "execution_count": 0,
      "outputs": []
    },
    {
      "cell_type": "code",
      "metadata": {
        "id": "ka45_bW8TqyQ",
        "colab_type": "code",
        "outputId": "8ea39df1-a837-4e90-c5fb-144f1e0d4d17",
        "colab": {
          "base_uri": "https://localhost:8080/",
          "height": 255
        }
      },
      "source": [
        "# Get info\n",
        "df.info()"
      ],
      "execution_count": 0,
      "outputs": [
        {
          "output_type": "stream",
          "text": [
            "<class 'pandas.core.frame.DataFrame'>\n",
            "RangeIndex: 4635837 entries, 0 to 4635836\n",
            "Data columns (total 9 columns):\n",
            "event_time       object\n",
            "event_type       object\n",
            "product_id       int64\n",
            "category_id      int64\n",
            "category_code    object\n",
            "brand            object\n",
            "price            float64\n",
            "user_id          int64\n",
            "user_session     object\n",
            "dtypes: float64(1), int64(3), object(5)\n",
            "memory usage: 318.3+ MB\n"
          ],
          "name": "stdout"
        }
      ]
    },
    {
      "cell_type": "code",
      "metadata": {
        "id": "M1Ie8FWnTwB5",
        "colab_type": "code",
        "outputId": "9ec49e9e-8d5e-4123-cc19-4431cebdbb13",
        "colab": {
          "base_uri": "https://localhost:8080/",
          "height": 204
        }
      },
      "source": [
        "# Get head\n",
        "df.head()"
      ],
      "execution_count": 0,
      "outputs": [
        {
          "output_type": "execute_result",
          "data": {
            "text/html": [
              "<div>\n",
              "<style scoped>\n",
              "    .dataframe tbody tr th:only-of-type {\n",
              "        vertical-align: middle;\n",
              "    }\n",
              "\n",
              "    .dataframe tbody tr th {\n",
              "        vertical-align: top;\n",
              "    }\n",
              "\n",
              "    .dataframe thead th {\n",
              "        text-align: right;\n",
              "    }\n",
              "</style>\n",
              "<table border=\"1\" class=\"dataframe\">\n",
              "  <thead>\n",
              "    <tr style=\"text-align: right;\">\n",
              "      <th></th>\n",
              "      <th>event_time</th>\n",
              "      <th>event_type</th>\n",
              "      <th>product_id</th>\n",
              "      <th>category_id</th>\n",
              "      <th>category_code</th>\n",
              "      <th>brand</th>\n",
              "      <th>price</th>\n",
              "      <th>user_id</th>\n",
              "      <th>user_session</th>\n",
              "    </tr>\n",
              "  </thead>\n",
              "  <tbody>\n",
              "    <tr>\n",
              "      <th>0</th>\n",
              "      <td>2019-11-01 00:00:02 UTC</td>\n",
              "      <td>view</td>\n",
              "      <td>5802432</td>\n",
              "      <td>1487580009286598681</td>\n",
              "      <td>NaN</td>\n",
              "      <td>NaN</td>\n",
              "      <td>0.32</td>\n",
              "      <td>562076640</td>\n",
              "      <td>09fafd6c-6c99-46b1-834f-33527f4de241</td>\n",
              "    </tr>\n",
              "    <tr>\n",
              "      <th>1</th>\n",
              "      <td>2019-11-01 00:00:09 UTC</td>\n",
              "      <td>cart</td>\n",
              "      <td>5844397</td>\n",
              "      <td>1487580006317032337</td>\n",
              "      <td>NaN</td>\n",
              "      <td>NaN</td>\n",
              "      <td>2.38</td>\n",
              "      <td>553329724</td>\n",
              "      <td>2067216c-31b5-455d-a1cc-af0575a34ffb</td>\n",
              "    </tr>\n",
              "    <tr>\n",
              "      <th>2</th>\n",
              "      <td>2019-11-01 00:00:10 UTC</td>\n",
              "      <td>view</td>\n",
              "      <td>5837166</td>\n",
              "      <td>1783999064103190764</td>\n",
              "      <td>NaN</td>\n",
              "      <td>pnb</td>\n",
              "      <td>22.22</td>\n",
              "      <td>556138645</td>\n",
              "      <td>57ed222e-a54a-4907-9944-5a875c2d7f4f</td>\n",
              "    </tr>\n",
              "    <tr>\n",
              "      <th>3</th>\n",
              "      <td>2019-11-01 00:00:11 UTC</td>\n",
              "      <td>cart</td>\n",
              "      <td>5876812</td>\n",
              "      <td>1487580010100293687</td>\n",
              "      <td>NaN</td>\n",
              "      <td>jessnail</td>\n",
              "      <td>3.16</td>\n",
              "      <td>564506666</td>\n",
              "      <td>186c1951-8052-4b37-adce-dd9644b1d5f7</td>\n",
              "    </tr>\n",
              "    <tr>\n",
              "      <th>4</th>\n",
              "      <td>2019-11-01 00:00:24 UTC</td>\n",
              "      <td>remove_from_cart</td>\n",
              "      <td>5826182</td>\n",
              "      <td>1487580007483048900</td>\n",
              "      <td>NaN</td>\n",
              "      <td>NaN</td>\n",
              "      <td>3.33</td>\n",
              "      <td>553329724</td>\n",
              "      <td>2067216c-31b5-455d-a1cc-af0575a34ffb</td>\n",
              "    </tr>\n",
              "  </tbody>\n",
              "</table>\n",
              "</div>"
            ],
            "text/plain": [
              "                event_time  ...                          user_session\n",
              "0  2019-11-01 00:00:02 UTC  ...  09fafd6c-6c99-46b1-834f-33527f4de241\n",
              "1  2019-11-01 00:00:09 UTC  ...  2067216c-31b5-455d-a1cc-af0575a34ffb\n",
              "2  2019-11-01 00:00:10 UTC  ...  57ed222e-a54a-4907-9944-5a875c2d7f4f\n",
              "3  2019-11-01 00:00:11 UTC  ...  186c1951-8052-4b37-adce-dd9644b1d5f7\n",
              "4  2019-11-01 00:00:24 UTC  ...  2067216c-31b5-455d-a1cc-af0575a34ffb\n",
              "\n",
              "[5 rows x 9 columns]"
            ]
          },
          "metadata": {
            "tags": []
          },
          "execution_count": 7
        }
      ]
    },
    {
      "cell_type": "code",
      "metadata": {
        "id": "wFHhc2NJTxxu",
        "colab_type": "code",
        "outputId": "7c4c00e8-829c-4e3f-94fb-196746c6dbe5",
        "colab": {
          "base_uri": "https://localhost:8080/",
          "height": 187
        }
      },
      "source": [
        "# check for nulls\n",
        "df.isna().sum()"
      ],
      "execution_count": 0,
      "outputs": [
        {
          "output_type": "execute_result",
          "data": {
            "text/plain": [
              "event_time             0\n",
              "event_type             0\n",
              "product_id             0\n",
              "category_id            0\n",
              "category_code    4560089\n",
              "brand            1986029\n",
              "price                  0\n",
              "user_id                0\n",
              "user_session         813\n",
              "dtype: int64"
            ]
          },
          "metadata": {
            "tags": []
          },
          "execution_count": 8
        }
      ]
    },
    {
      "cell_type": "code",
      "metadata": {
        "id": "xMrpEI68NNJz",
        "colab_type": "code",
        "colab": {}
      },
      "source": [
        "# check rows for negative prices with loc statement "
      ],
      "execution_count": 0,
      "outputs": []
    },
    {
      "cell_type": "code",
      "metadata": {
        "id": "dib6Py8iT3zF",
        "colab_type": "code",
        "colab": {}
      },
      "source": [
        "# drop columns I don't need\n",
        "dfd= df.drop(['event_time', 'product_id', 'category_id', 'category_code', 'brand', 'user_session'], axis=1)"
      ],
      "execution_count": 0,
      "outputs": []
    },
    {
      "cell_type": "code",
      "metadata": {
        "id": "xwh7K9yaT7E4",
        "colab_type": "code",
        "outputId": "34817cb4-8aed-485c-c20d-831f4f8e2679",
        "colab": {
          "base_uri": "https://localhost:8080/",
          "height": 153
        }
      },
      "source": [
        "# get info on the new columns\n",
        "dfd.info()"
      ],
      "execution_count": 0,
      "outputs": [
        {
          "output_type": "stream",
          "text": [
            "<class 'pandas.core.frame.DataFrame'>\n",
            "RangeIndex: 4635837 entries, 0 to 4635836\n",
            "Data columns (total 3 columns):\n",
            "event_type    object\n",
            "price         float64\n",
            "user_id       int64\n",
            "dtypes: float64(1), int64(1), object(1)\n",
            "memory usage: 106.1+ MB\n"
          ],
          "name": "stdout"
        }
      ]
    },
    {
      "cell_type": "code",
      "metadata": {
        "id": "lbruL5A7UA_p",
        "colab_type": "code",
        "outputId": "c83dff7c-bce2-402c-8263-1ed334fcaf4b",
        "colab": {
          "base_uri": "https://localhost:8080/",
          "height": 204
        }
      },
      "source": [
        "dfd.head()"
      ],
      "execution_count": 0,
      "outputs": [
        {
          "output_type": "execute_result",
          "data": {
            "text/html": [
              "<div>\n",
              "<style scoped>\n",
              "    .dataframe tbody tr th:only-of-type {\n",
              "        vertical-align: middle;\n",
              "    }\n",
              "\n",
              "    .dataframe tbody tr th {\n",
              "        vertical-align: top;\n",
              "    }\n",
              "\n",
              "    .dataframe thead th {\n",
              "        text-align: right;\n",
              "    }\n",
              "</style>\n",
              "<table border=\"1\" class=\"dataframe\">\n",
              "  <thead>\n",
              "    <tr style=\"text-align: right;\">\n",
              "      <th></th>\n",
              "      <th>event_type</th>\n",
              "      <th>price</th>\n",
              "      <th>user_id</th>\n",
              "    </tr>\n",
              "  </thead>\n",
              "  <tbody>\n",
              "    <tr>\n",
              "      <th>0</th>\n",
              "      <td>view</td>\n",
              "      <td>0.32</td>\n",
              "      <td>562076640</td>\n",
              "    </tr>\n",
              "    <tr>\n",
              "      <th>1</th>\n",
              "      <td>cart</td>\n",
              "      <td>2.38</td>\n",
              "      <td>553329724</td>\n",
              "    </tr>\n",
              "    <tr>\n",
              "      <th>2</th>\n",
              "      <td>view</td>\n",
              "      <td>22.22</td>\n",
              "      <td>556138645</td>\n",
              "    </tr>\n",
              "    <tr>\n",
              "      <th>3</th>\n",
              "      <td>cart</td>\n",
              "      <td>3.16</td>\n",
              "      <td>564506666</td>\n",
              "    </tr>\n",
              "    <tr>\n",
              "      <th>4</th>\n",
              "      <td>remove_from_cart</td>\n",
              "      <td>3.33</td>\n",
              "      <td>553329724</td>\n",
              "    </tr>\n",
              "  </tbody>\n",
              "</table>\n",
              "</div>"
            ],
            "text/plain": [
              "         event_type  price    user_id\n",
              "0              view   0.32  562076640\n",
              "1              cart   2.38  553329724\n",
              "2              view  22.22  556138645\n",
              "3              cart   3.16  564506666\n",
              "4  remove_from_cart   3.33  553329724"
            ]
          },
          "metadata": {
            "tags": []
          },
          "execution_count": 11
        }
      ]
    },
    {
      "cell_type": "markdown",
      "metadata": {
        "id": "EtBL4Xh_3RxC",
        "colab_type": "text"
      },
      "source": [
        "Ho: Removing something from a cart and adding something to a cart equally indicate a purchase \n",
        "\n",
        "\n",
        "Ha: Removing something from a cart better indicates a purchase than adding something to a cart "
      ]
    },
    {
      "cell_type": "code",
      "metadata": {
        "id": "pfCCeus-PrJP",
        "colab_type": "code",
        "colab": {}
      },
      "source": [
        "# boc xplot does 1 and a half standard deviations away--for my dist and can set that 10 whis=10 "
      ],
      "execution_count": 0,
      "outputs": []
    },
    {
      "cell_type": "code",
      "metadata": {
        "id": "CCp77sGOUOjC",
        "colab_type": "code",
        "outputId": "af249c9d-02fa-4018-b0fe-c53271491271",
        "colab": {
          "base_uri": "https://localhost:8080/",
          "height": 255
        }
      },
      "source": [
        "# change all values to 1\n",
        "#dfd.loc[(dfd.price > 0),'price']=1\n",
        "# print (dfd)"
      ],
      "execution_count": 0,
      "outputs": [
        {
          "output_type": "stream",
          "text": [
            "               event_type  price    user_id\n",
            "0                    view    1.0  562076640\n",
            "1                    cart    1.0  553329724\n",
            "2                    view    1.0  556138645\n",
            "3                    cart    1.0  564506666\n",
            "4        remove_from_cart    1.0  553329724\n",
            "...                   ...    ...        ...\n",
            "4635832              view    1.0  457678989\n",
            "4635833              view    1.0  422196217\n",
            "4635834              view    1.0  572579084\n",
            "4635835              view    1.0  540006764\n",
            "4635836              view    1.0  579969854\n",
            "\n",
            "[4635837 rows x 3 columns]\n"
          ],
          "name": "stdout"
        }
      ]
    },
    {
      "cell_type": "code",
      "metadata": {
        "id": "unjVLJXKPJeX",
        "colab_type": "code",
        "outputId": "fe477981-8442-4c72-84c9-cd2398718c19",
        "colab": {
          "base_uri": "https://localhost:8080/",
          "height": 255
        }
      },
      "source": [
        "# set every price to 1\n",
        "dfd.loc[:, 'price']=1\n",
        "print (dfd)"
      ],
      "execution_count": 0,
      "outputs": [
        {
          "output_type": "stream",
          "text": [
            "               event_type  price    user_id\n",
            "0                    view      1  562076640\n",
            "1                    cart      1  553329724\n",
            "2                    view      1  556138645\n",
            "3                    cart      1  564506666\n",
            "4        remove_from_cart      1  553329724\n",
            "...                   ...    ...        ...\n",
            "4635832              view      1  457678989\n",
            "4635833              view      1  422196217\n",
            "4635834              view      1  572579084\n",
            "4635835              view      1  540006764\n",
            "4635836              view      1  579969854\n",
            "\n",
            "[4635837 rows x 3 columns]\n"
          ],
          "name": "stdout"
        }
      ]
    },
    {
      "cell_type": "code",
      "metadata": {
        "id": "jZwCYwxJVxwl",
        "colab_type": "code",
        "colab": {}
      },
      "source": [
        "# create new df for pivoted data\n",
        "dfp= pd.pivot_table(dfd, index='user_id', columns='event_type', values='price', aggfunc='sum')"
      ],
      "execution_count": 0,
      "outputs": []
    },
    {
      "cell_type": "code",
      "metadata": {
        "id": "xD5HRC9vWFZI",
        "colab_type": "code",
        "colab": {}
      },
      "source": [
        "# reset index\n",
        "dfp = dfp.reset_index()"
      ],
      "execution_count": 0,
      "outputs": []
    },
    {
      "cell_type": "code",
      "metadata": {
        "id": "pKvB2WfcWNvj",
        "colab_type": "code",
        "outputId": "856c1127-0ed3-41f0-a6b5-a4198ccda653",
        "colab": {
          "base_uri": "https://localhost:8080/",
          "height": 187
        }
      },
      "source": [
        "dfp.info()"
      ],
      "execution_count": 0,
      "outputs": [
        {
          "output_type": "stream",
          "text": [
            "<class 'pandas.core.frame.DataFrame'>\n",
            "RangeIndex: 368232 entries, 0 to 368231\n",
            "Data columns (total 5 columns):\n",
            "user_id             368232 non-null int64\n",
            "cart                95939 non-null float64\n",
            "purchase            31524 non-null float64\n",
            "remove_from_cart    54628 non-null float64\n",
            "view                355643 non-null float64\n",
            "dtypes: float64(4), int64(1)\n",
            "memory usage: 14.0 MB\n"
          ],
          "name": "stdout"
        }
      ]
    },
    {
      "cell_type": "code",
      "metadata": {
        "id": "_bWgyxeYWQhD",
        "colab_type": "code",
        "outputId": "d088d88d-dd5b-49da-b32f-3b5deea62820",
        "colab": {
          "base_uri": "https://localhost:8080/",
          "height": 204
        }
      },
      "source": [
        "dfp.head()"
      ],
      "execution_count": 0,
      "outputs": [
        {
          "output_type": "execute_result",
          "data": {
            "text/html": [
              "<div>\n",
              "<style scoped>\n",
              "    .dataframe tbody tr th:only-of-type {\n",
              "        vertical-align: middle;\n",
              "    }\n",
              "\n",
              "    .dataframe tbody tr th {\n",
              "        vertical-align: top;\n",
              "    }\n",
              "\n",
              "    .dataframe thead th {\n",
              "        text-align: right;\n",
              "    }\n",
              "</style>\n",
              "<table border=\"1\" class=\"dataframe\">\n",
              "  <thead>\n",
              "    <tr style=\"text-align: right;\">\n",
              "      <th>event_type</th>\n",
              "      <th>user_id</th>\n",
              "      <th>cart</th>\n",
              "      <th>purchase</th>\n",
              "      <th>remove_from_cart</th>\n",
              "      <th>view</th>\n",
              "    </tr>\n",
              "  </thead>\n",
              "  <tbody>\n",
              "    <tr>\n",
              "      <th>0</th>\n",
              "      <td>1120748</td>\n",
              "      <td>NaN</td>\n",
              "      <td>NaN</td>\n",
              "      <td>NaN</td>\n",
              "      <td>1.0</td>\n",
              "    </tr>\n",
              "    <tr>\n",
              "      <th>1</th>\n",
              "      <td>1458813</td>\n",
              "      <td>NaN</td>\n",
              "      <td>NaN</td>\n",
              "      <td>NaN</td>\n",
              "      <td>31.0</td>\n",
              "    </tr>\n",
              "    <tr>\n",
              "      <th>2</th>\n",
              "      <td>5493470</td>\n",
              "      <td>5.0</td>\n",
              "      <td>NaN</td>\n",
              "      <td>NaN</td>\n",
              "      <td>5.0</td>\n",
              "    </tr>\n",
              "    <tr>\n",
              "      <th>3</th>\n",
              "      <td>6217356</td>\n",
              "      <td>1.0</td>\n",
              "      <td>NaN</td>\n",
              "      <td>NaN</td>\n",
              "      <td>NaN</td>\n",
              "    </tr>\n",
              "    <tr>\n",
              "      <th>4</th>\n",
              "      <td>8072106</td>\n",
              "      <td>NaN</td>\n",
              "      <td>NaN</td>\n",
              "      <td>NaN</td>\n",
              "      <td>1.0</td>\n",
              "    </tr>\n",
              "  </tbody>\n",
              "</table>\n",
              "</div>"
            ],
            "text/plain": [
              "event_type  user_id  cart  purchase  remove_from_cart  view\n",
              "0           1120748   NaN       NaN               NaN   1.0\n",
              "1           1458813   NaN       NaN               NaN  31.0\n",
              "2           5493470   5.0       NaN               NaN   5.0\n",
              "3           6217356   1.0       NaN               NaN   NaN\n",
              "4           8072106   NaN       NaN               NaN   1.0"
            ]
          },
          "metadata": {
            "tags": []
          },
          "execution_count": 65
        }
      ]
    },
    {
      "cell_type": "code",
      "metadata": {
        "id": "GTa-rtqgWTyG",
        "colab_type": "code",
        "colab": {}
      },
      "source": [
        "# replace null values with 0\n",
        "dfp.fillna(value=0, inplace=True)"
      ],
      "execution_count": 0,
      "outputs": []
    },
    {
      "cell_type": "code",
      "metadata": {
        "id": "Wk5FEtGoWZ0g",
        "colab_type": "code",
        "outputId": "e984b278-f4bc-406e-a52c-1b370ccc683f",
        "colab": {
          "base_uri": "https://localhost:8080/",
          "height": 204
        }
      },
      "source": [
        "dfp.head()"
      ],
      "execution_count": 0,
      "outputs": [
        {
          "output_type": "execute_result",
          "data": {
            "text/html": [
              "<div>\n",
              "<style scoped>\n",
              "    .dataframe tbody tr th:only-of-type {\n",
              "        vertical-align: middle;\n",
              "    }\n",
              "\n",
              "    .dataframe tbody tr th {\n",
              "        vertical-align: top;\n",
              "    }\n",
              "\n",
              "    .dataframe thead th {\n",
              "        text-align: right;\n",
              "    }\n",
              "</style>\n",
              "<table border=\"1\" class=\"dataframe\">\n",
              "  <thead>\n",
              "    <tr style=\"text-align: right;\">\n",
              "      <th>event_type</th>\n",
              "      <th>user_id</th>\n",
              "      <th>cart</th>\n",
              "      <th>purchase</th>\n",
              "      <th>remove_from_cart</th>\n",
              "      <th>view</th>\n",
              "    </tr>\n",
              "  </thead>\n",
              "  <tbody>\n",
              "    <tr>\n",
              "      <th>0</th>\n",
              "      <td>1120748</td>\n",
              "      <td>0.0</td>\n",
              "      <td>0.0</td>\n",
              "      <td>0.0</td>\n",
              "      <td>1.0</td>\n",
              "    </tr>\n",
              "    <tr>\n",
              "      <th>1</th>\n",
              "      <td>1458813</td>\n",
              "      <td>0.0</td>\n",
              "      <td>0.0</td>\n",
              "      <td>0.0</td>\n",
              "      <td>31.0</td>\n",
              "    </tr>\n",
              "    <tr>\n",
              "      <th>2</th>\n",
              "      <td>5493470</td>\n",
              "      <td>5.0</td>\n",
              "      <td>0.0</td>\n",
              "      <td>0.0</td>\n",
              "      <td>5.0</td>\n",
              "    </tr>\n",
              "    <tr>\n",
              "      <th>3</th>\n",
              "      <td>6217356</td>\n",
              "      <td>1.0</td>\n",
              "      <td>0.0</td>\n",
              "      <td>0.0</td>\n",
              "      <td>0.0</td>\n",
              "    </tr>\n",
              "    <tr>\n",
              "      <th>4</th>\n",
              "      <td>8072106</td>\n",
              "      <td>0.0</td>\n",
              "      <td>0.0</td>\n",
              "      <td>0.0</td>\n",
              "      <td>1.0</td>\n",
              "    </tr>\n",
              "  </tbody>\n",
              "</table>\n",
              "</div>"
            ],
            "text/plain": [
              "event_type  user_id  cart  purchase  remove_from_cart  view\n",
              "0           1120748   0.0       0.0               0.0   1.0\n",
              "1           1458813   0.0       0.0               0.0  31.0\n",
              "2           5493470   5.0       0.0               0.0   5.0\n",
              "3           6217356   1.0       0.0               0.0   0.0\n",
              "4           8072106   0.0       0.0               0.0   1.0"
            ]
          },
          "metadata": {
            "tags": []
          },
          "execution_count": 67
        }
      ]
    },
    {
      "cell_type": "code",
      "metadata": {
        "id": "JUtvs98hWckO",
        "colab_type": "code",
        "outputId": "e12946f1-d750-42ff-c2f0-d1fa853f26e0",
        "colab": {
          "base_uri": "https://localhost:8080/",
          "height": 221
        }
      },
      "source": [
        "# make sure user_id is unique value\n",
        "dfp['user_id'].value_counts()"
      ],
      "execution_count": 0,
      "outputs": [
        {
          "output_type": "execute_result",
          "data": {
            "text/plain": [
              "566757375    1\n",
              "572805418    1\n",
              "572963458    1\n",
              "571558506    1\n",
              "561439369    1\n",
              "            ..\n",
              "576329729    1\n",
              "575520285    1\n",
              "548251166    1\n",
              "571846175    1\n",
              "494927872    1\n",
              "Name: user_id, Length: 368232, dtype: int64"
            ]
          },
          "metadata": {
            "tags": []
          },
          "execution_count": 68
        }
      ]
    },
    {
      "cell_type": "code",
      "metadata": {
        "id": "LFnPuHnzWmTa",
        "colab_type": "code",
        "colab": {}
      },
      "source": [
        "# rename event_type to something else \n",
        "dfp.columns = ['user_id', 'cart', 'purchase','remove_from_cart', 'view']"
      ],
      "execution_count": 0,
      "outputs": []
    },
    {
      "cell_type": "code",
      "metadata": {
        "id": "oq0mBZWHWrdM",
        "colab_type": "code",
        "outputId": "95f2aefd-7553-47d0-caee-a002731a0558",
        "colab": {
          "base_uri": "https://localhost:8080/",
          "height": 204
        }
      },
      "source": [
        "# make sure event_type is gone\n",
        "dfp.head()"
      ],
      "execution_count": 0,
      "outputs": [
        {
          "output_type": "execute_result",
          "data": {
            "text/html": [
              "<div>\n",
              "<style scoped>\n",
              "    .dataframe tbody tr th:only-of-type {\n",
              "        vertical-align: middle;\n",
              "    }\n",
              "\n",
              "    .dataframe tbody tr th {\n",
              "        vertical-align: top;\n",
              "    }\n",
              "\n",
              "    .dataframe thead th {\n",
              "        text-align: right;\n",
              "    }\n",
              "</style>\n",
              "<table border=\"1\" class=\"dataframe\">\n",
              "  <thead>\n",
              "    <tr style=\"text-align: right;\">\n",
              "      <th></th>\n",
              "      <th>user_id</th>\n",
              "      <th>cart</th>\n",
              "      <th>purchase</th>\n",
              "      <th>remove_from_cart</th>\n",
              "      <th>view</th>\n",
              "    </tr>\n",
              "  </thead>\n",
              "  <tbody>\n",
              "    <tr>\n",
              "      <th>0</th>\n",
              "      <td>1120748</td>\n",
              "      <td>0.0</td>\n",
              "      <td>0.0</td>\n",
              "      <td>0.0</td>\n",
              "      <td>1.0</td>\n",
              "    </tr>\n",
              "    <tr>\n",
              "      <th>1</th>\n",
              "      <td>1458813</td>\n",
              "      <td>0.0</td>\n",
              "      <td>0.0</td>\n",
              "      <td>0.0</td>\n",
              "      <td>31.0</td>\n",
              "    </tr>\n",
              "    <tr>\n",
              "      <th>2</th>\n",
              "      <td>5493470</td>\n",
              "      <td>5.0</td>\n",
              "      <td>0.0</td>\n",
              "      <td>0.0</td>\n",
              "      <td>5.0</td>\n",
              "    </tr>\n",
              "    <tr>\n",
              "      <th>3</th>\n",
              "      <td>6217356</td>\n",
              "      <td>1.0</td>\n",
              "      <td>0.0</td>\n",
              "      <td>0.0</td>\n",
              "      <td>0.0</td>\n",
              "    </tr>\n",
              "    <tr>\n",
              "      <th>4</th>\n",
              "      <td>8072106</td>\n",
              "      <td>0.0</td>\n",
              "      <td>0.0</td>\n",
              "      <td>0.0</td>\n",
              "      <td>1.0</td>\n",
              "    </tr>\n",
              "  </tbody>\n",
              "</table>\n",
              "</div>"
            ],
            "text/plain": [
              "   user_id  cart  purchase  remove_from_cart  view\n",
              "0  1120748   0.0       0.0               0.0   1.0\n",
              "1  1458813   0.0       0.0               0.0  31.0\n",
              "2  5493470   5.0       0.0               0.0   5.0\n",
              "3  6217356   1.0       0.0               0.0   0.0\n",
              "4  8072106   0.0       0.0               0.0   1.0"
            ]
          },
          "metadata": {
            "tags": []
          },
          "execution_count": 70
        }
      ]
    },
    {
      "cell_type": "code",
      "metadata": {
        "id": "Zjoyecqw2xK_",
        "colab_type": "code",
        "outputId": "c8efd6fa-f76a-490d-a18e-4ac5d7354f76",
        "colab": {
          "base_uri": "https://localhost:8080/",
          "height": 297
        }
      },
      "source": [
        "# check out range etc.\n",
        "dfp.describe()"
      ],
      "execution_count": 0,
      "outputs": [
        {
          "output_type": "execute_result",
          "data": {
            "text/html": [
              "<div>\n",
              "<style scoped>\n",
              "    .dataframe tbody tr th:only-of-type {\n",
              "        vertical-align: middle;\n",
              "    }\n",
              "\n",
              "    .dataframe tbody tr th {\n",
              "        vertical-align: top;\n",
              "    }\n",
              "\n",
              "    .dataframe thead th {\n",
              "        text-align: right;\n",
              "    }\n",
              "</style>\n",
              "<table border=\"1\" class=\"dataframe\">\n",
              "  <thead>\n",
              "    <tr style=\"text-align: right;\">\n",
              "      <th></th>\n",
              "      <th>user_id</th>\n",
              "      <th>cart</th>\n",
              "      <th>purchase</th>\n",
              "      <th>remove_from_cart</th>\n",
              "      <th>view</th>\n",
              "    </tr>\n",
              "  </thead>\n",
              "  <tbody>\n",
              "    <tr>\n",
              "      <th>count</th>\n",
              "      <td>3.682320e+05</td>\n",
              "      <td>368232.000000</td>\n",
              "      <td>368232.000000</td>\n",
              "      <td>368232.000000</td>\n",
              "      <td>368232.000000</td>\n",
              "    </tr>\n",
              "    <tr>\n",
              "      <th>mean</th>\n",
              "      <td>5.351189e+08</td>\n",
              "      <td>3.562447</td>\n",
              "      <td>0.875581</td>\n",
              "      <td>2.513310</td>\n",
              "      <td>5.638109</td>\n",
              "    </tr>\n",
              "    <tr>\n",
              "      <th>std</th>\n",
              "      <td>6.914056e+07</td>\n",
              "      <td>15.531020</td>\n",
              "      <td>4.566144</td>\n",
              "      <td>17.653779</td>\n",
              "      <td>25.881554</td>\n",
              "    </tr>\n",
              "    <tr>\n",
              "      <th>min</th>\n",
              "      <td>1.120748e+06</td>\n",
              "      <td>0.000000</td>\n",
              "      <td>0.000000</td>\n",
              "      <td>0.000000</td>\n",
              "      <td>0.000000</td>\n",
              "    </tr>\n",
              "    <tr>\n",
              "      <th>25%</th>\n",
              "      <td>5.276206e+08</td>\n",
              "      <td>0.000000</td>\n",
              "      <td>0.000000</td>\n",
              "      <td>0.000000</td>\n",
              "      <td>1.000000</td>\n",
              "    </tr>\n",
              "    <tr>\n",
              "      <th>50%</th>\n",
              "      <td>5.677102e+08</td>\n",
              "      <td>0.000000</td>\n",
              "      <td>0.000000</td>\n",
              "      <td>0.000000</td>\n",
              "      <td>1.000000</td>\n",
              "    </tr>\n",
              "    <tr>\n",
              "      <th>75%</th>\n",
              "      <td>5.730176e+08</td>\n",
              "      <td>1.000000</td>\n",
              "      <td>0.000000</td>\n",
              "      <td>0.000000</td>\n",
              "      <td>3.000000</td>\n",
              "    </tr>\n",
              "    <tr>\n",
              "      <th>max</th>\n",
              "      <td>5.799699e+08</td>\n",
              "      <td>1682.000000</td>\n",
              "      <td>438.000000</td>\n",
              "      <td>2480.000000</td>\n",
              "      <td>9336.000000</td>\n",
              "    </tr>\n",
              "  </tbody>\n",
              "</table>\n",
              "</div>"
            ],
            "text/plain": [
              "            user_id           cart  ...  remove_from_cart           view\n",
              "count  3.682320e+05  368232.000000  ...     368232.000000  368232.000000\n",
              "mean   5.351189e+08       3.562447  ...          2.513310       5.638109\n",
              "std    6.914056e+07      15.531020  ...         17.653779      25.881554\n",
              "min    1.120748e+06       0.000000  ...          0.000000       0.000000\n",
              "25%    5.276206e+08       0.000000  ...          0.000000       1.000000\n",
              "50%    5.677102e+08       0.000000  ...          0.000000       1.000000\n",
              "75%    5.730176e+08       1.000000  ...          0.000000       3.000000\n",
              "max    5.799699e+08    1682.000000  ...       2480.000000    9336.000000\n",
              "\n",
              "[8 rows x 5 columns]"
            ]
          },
          "metadata": {
            "tags": []
          },
          "execution_count": 71
        }
      ]
    },
    {
      "cell_type": "code",
      "metadata": {
        "id": "M3Zmc-mncKlx",
        "colab_type": "code",
        "outputId": "a12b9843-8702-4275-dedd-f40572f4df8b",
        "colab": {
          "base_uri": "https://localhost:8080/",
          "height": 204
        }
      },
      "source": [
        "#assign an extra A/B column for purchase\n",
        "def buy(purchase):\n",
        "    if purchase >0:\n",
        "        return 'yes'\n",
        "    else:\n",
        "        return 'no'\n",
        "dfp['buy']= dfp['purchase'].apply(buy)\n",
        "dfp.head()"
      ],
      "execution_count": 0,
      "outputs": [
        {
          "output_type": "execute_result",
          "data": {
            "text/html": [
              "<div>\n",
              "<style scoped>\n",
              "    .dataframe tbody tr th:only-of-type {\n",
              "        vertical-align: middle;\n",
              "    }\n",
              "\n",
              "    .dataframe tbody tr th {\n",
              "        vertical-align: top;\n",
              "    }\n",
              "\n",
              "    .dataframe thead th {\n",
              "        text-align: right;\n",
              "    }\n",
              "</style>\n",
              "<table border=\"1\" class=\"dataframe\">\n",
              "  <thead>\n",
              "    <tr style=\"text-align: right;\">\n",
              "      <th></th>\n",
              "      <th>user_id</th>\n",
              "      <th>cart</th>\n",
              "      <th>purchase</th>\n",
              "      <th>remove_from_cart</th>\n",
              "      <th>view</th>\n",
              "      <th>buy</th>\n",
              "    </tr>\n",
              "  </thead>\n",
              "  <tbody>\n",
              "    <tr>\n",
              "      <th>0</th>\n",
              "      <td>1120748</td>\n",
              "      <td>0.0</td>\n",
              "      <td>0.0</td>\n",
              "      <td>0.0</td>\n",
              "      <td>1.0</td>\n",
              "      <td>no</td>\n",
              "    </tr>\n",
              "    <tr>\n",
              "      <th>1</th>\n",
              "      <td>1458813</td>\n",
              "      <td>0.0</td>\n",
              "      <td>0.0</td>\n",
              "      <td>0.0</td>\n",
              "      <td>31.0</td>\n",
              "      <td>no</td>\n",
              "    </tr>\n",
              "    <tr>\n",
              "      <th>2</th>\n",
              "      <td>5493470</td>\n",
              "      <td>5.0</td>\n",
              "      <td>0.0</td>\n",
              "      <td>0.0</td>\n",
              "      <td>5.0</td>\n",
              "      <td>no</td>\n",
              "    </tr>\n",
              "    <tr>\n",
              "      <th>3</th>\n",
              "      <td>6217356</td>\n",
              "      <td>1.0</td>\n",
              "      <td>0.0</td>\n",
              "      <td>0.0</td>\n",
              "      <td>0.0</td>\n",
              "      <td>no</td>\n",
              "    </tr>\n",
              "    <tr>\n",
              "      <th>4</th>\n",
              "      <td>8072106</td>\n",
              "      <td>0.0</td>\n",
              "      <td>0.0</td>\n",
              "      <td>0.0</td>\n",
              "      <td>1.0</td>\n",
              "      <td>no</td>\n",
              "    </tr>\n",
              "  </tbody>\n",
              "</table>\n",
              "</div>"
            ],
            "text/plain": [
              "   user_id  cart  purchase  remove_from_cart  view buy\n",
              "0  1120748   0.0       0.0               0.0   1.0  no\n",
              "1  1458813   0.0       0.0               0.0  31.0  no\n",
              "2  5493470   5.0       0.0               0.0   5.0  no\n",
              "3  6217356   1.0       0.0               0.0   0.0  no\n",
              "4  8072106   0.0       0.0               0.0   1.0  no"
            ]
          },
          "metadata": {
            "tags": []
          },
          "execution_count": 72
        }
      ]
    },
    {
      "cell_type": "code",
      "metadata": {
        "id": "ewojWZeoim7R",
        "colab_type": "code",
        "outputId": "fdb6f42c-897d-4492-c46d-b1318520a5fc",
        "colab": {
          "base_uri": "https://localhost:8080/",
          "height": 204
        }
      },
      "source": [
        "#assign an extra A/B column for remove_from_cart\n",
        "def remove(remove_from_cart):\n",
        "    if remove_from_cart >0:\n",
        "        return 'yes'\n",
        "    else:\n",
        "        return 'no'\n",
        "dfp['remove']= dfp['remove_from_cart'].apply(remove)\n",
        "dfp.head()"
      ],
      "execution_count": 0,
      "outputs": [
        {
          "output_type": "execute_result",
          "data": {
            "text/html": [
              "<div>\n",
              "<style scoped>\n",
              "    .dataframe tbody tr th:only-of-type {\n",
              "        vertical-align: middle;\n",
              "    }\n",
              "\n",
              "    .dataframe tbody tr th {\n",
              "        vertical-align: top;\n",
              "    }\n",
              "\n",
              "    .dataframe thead th {\n",
              "        text-align: right;\n",
              "    }\n",
              "</style>\n",
              "<table border=\"1\" class=\"dataframe\">\n",
              "  <thead>\n",
              "    <tr style=\"text-align: right;\">\n",
              "      <th></th>\n",
              "      <th>user_id</th>\n",
              "      <th>cart</th>\n",
              "      <th>purchase</th>\n",
              "      <th>remove_from_cart</th>\n",
              "      <th>view</th>\n",
              "      <th>buy</th>\n",
              "      <th>remove</th>\n",
              "    </tr>\n",
              "  </thead>\n",
              "  <tbody>\n",
              "    <tr>\n",
              "      <th>0</th>\n",
              "      <td>1120748</td>\n",
              "      <td>0.0</td>\n",
              "      <td>0.0</td>\n",
              "      <td>0.0</td>\n",
              "      <td>1.0</td>\n",
              "      <td>no</td>\n",
              "      <td>no</td>\n",
              "    </tr>\n",
              "    <tr>\n",
              "      <th>1</th>\n",
              "      <td>1458813</td>\n",
              "      <td>0.0</td>\n",
              "      <td>0.0</td>\n",
              "      <td>0.0</td>\n",
              "      <td>31.0</td>\n",
              "      <td>no</td>\n",
              "      <td>no</td>\n",
              "    </tr>\n",
              "    <tr>\n",
              "      <th>2</th>\n",
              "      <td>5493470</td>\n",
              "      <td>5.0</td>\n",
              "      <td>0.0</td>\n",
              "      <td>0.0</td>\n",
              "      <td>5.0</td>\n",
              "      <td>no</td>\n",
              "      <td>no</td>\n",
              "    </tr>\n",
              "    <tr>\n",
              "      <th>3</th>\n",
              "      <td>6217356</td>\n",
              "      <td>1.0</td>\n",
              "      <td>0.0</td>\n",
              "      <td>0.0</td>\n",
              "      <td>0.0</td>\n",
              "      <td>no</td>\n",
              "      <td>no</td>\n",
              "    </tr>\n",
              "    <tr>\n",
              "      <th>4</th>\n",
              "      <td>8072106</td>\n",
              "      <td>0.0</td>\n",
              "      <td>0.0</td>\n",
              "      <td>0.0</td>\n",
              "      <td>1.0</td>\n",
              "      <td>no</td>\n",
              "      <td>no</td>\n",
              "    </tr>\n",
              "  </tbody>\n",
              "</table>\n",
              "</div>"
            ],
            "text/plain": [
              "   user_id  cart  purchase  remove_from_cart  view buy remove\n",
              "0  1120748   0.0       0.0               0.0   1.0  no     no\n",
              "1  1458813   0.0       0.0               0.0  31.0  no     no\n",
              "2  5493470   5.0       0.0               0.0   5.0  no     no\n",
              "3  6217356   1.0       0.0               0.0   0.0  no     no\n",
              "4  8072106   0.0       0.0               0.0   1.0  no     no"
            ]
          },
          "metadata": {
            "tags": []
          },
          "execution_count": 73
        }
      ]
    },
    {
      "cell_type": "code",
      "metadata": {
        "id": "Iizt8CT1WwuP",
        "colab_type": "code",
        "colab": {}
      },
      "source": [
        "#split data into 2 groups\n",
        "df_pno= dfp[dfp['purchase']==0]\n",
        "df_pyes= dfp[dfp['purchase']>0]"
      ],
      "execution_count": 0,
      "outputs": []
    },
    {
      "cell_type": "code",
      "metadata": {
        "id": "UNOMzbF9W-Zz",
        "colab_type": "code",
        "outputId": "edbf7e5b-51ef-4e35-e79c-eaabab8033cf",
        "colab": {
          "base_uri": "https://localhost:8080/",
          "height": 204
        }
      },
      "source": [
        "# descrip stat\n",
        "df_pyes.head()"
      ],
      "execution_count": 0,
      "outputs": [
        {
          "output_type": "execute_result",
          "data": {
            "text/html": [
              "<div>\n",
              "<style scoped>\n",
              "    .dataframe tbody tr th:only-of-type {\n",
              "        vertical-align: middle;\n",
              "    }\n",
              "\n",
              "    .dataframe tbody tr th {\n",
              "        vertical-align: top;\n",
              "    }\n",
              "\n",
              "    .dataframe thead th {\n",
              "        text-align: right;\n",
              "    }\n",
              "</style>\n",
              "<table border=\"1\" class=\"dataframe\">\n",
              "  <thead>\n",
              "    <tr style=\"text-align: right;\">\n",
              "      <th></th>\n",
              "      <th>user_id</th>\n",
              "      <th>cart</th>\n",
              "      <th>purchase</th>\n",
              "      <th>remove_from_cart</th>\n",
              "      <th>view</th>\n",
              "      <th>buy</th>\n",
              "      <th>remove</th>\n",
              "    </tr>\n",
              "  </thead>\n",
              "  <tbody>\n",
              "    <tr>\n",
              "      <th>6</th>\n",
              "      <td>9794320</td>\n",
              "      <td>39.0</td>\n",
              "      <td>4.0</td>\n",
              "      <td>31.0</td>\n",
              "      <td>75.0</td>\n",
              "      <td>yes</td>\n",
              "      <td>yes</td>\n",
              "    </tr>\n",
              "    <tr>\n",
              "      <th>7</th>\n",
              "      <td>10079204</td>\n",
              "      <td>2.0</td>\n",
              "      <td>2.0</td>\n",
              "      <td>0.0</td>\n",
              "      <td>0.0</td>\n",
              "      <td>yes</td>\n",
              "      <td>no</td>\n",
              "    </tr>\n",
              "    <tr>\n",
              "      <th>8</th>\n",
              "      <td>10280338</td>\n",
              "      <td>38.0</td>\n",
              "      <td>16.0</td>\n",
              "      <td>13.0</td>\n",
              "      <td>42.0</td>\n",
              "      <td>yes</td>\n",
              "      <td>yes</td>\n",
              "    </tr>\n",
              "    <tr>\n",
              "      <th>19</th>\n",
              "      <td>15781728</td>\n",
              "      <td>15.0</td>\n",
              "      <td>2.0</td>\n",
              "      <td>3.0</td>\n",
              "      <td>8.0</td>\n",
              "      <td>yes</td>\n",
              "      <td>yes</td>\n",
              "    </tr>\n",
              "    <tr>\n",
              "      <th>23</th>\n",
              "      <td>19762782</td>\n",
              "      <td>46.0</td>\n",
              "      <td>8.0</td>\n",
              "      <td>17.0</td>\n",
              "      <td>11.0</td>\n",
              "      <td>yes</td>\n",
              "      <td>yes</td>\n",
              "    </tr>\n",
              "  </tbody>\n",
              "</table>\n",
              "</div>"
            ],
            "text/plain": [
              "     user_id  cart  purchase  remove_from_cart  view  buy remove\n",
              "6    9794320  39.0       4.0              31.0  75.0  yes    yes\n",
              "7   10079204   2.0       2.0               0.0   0.0  yes     no\n",
              "8   10280338  38.0      16.0              13.0  42.0  yes    yes\n",
              "19  15781728  15.0       2.0               3.0   8.0  yes    yes\n",
              "23  19762782  46.0       8.0              17.0  11.0  yes    yes"
            ]
          },
          "metadata": {
            "tags": []
          },
          "execution_count": 75
        }
      ]
    },
    {
      "cell_type": "code",
      "metadata": {
        "id": "6siyt9X7XCDT",
        "colab_type": "code",
        "outputId": "d76685f4-167c-44d3-bd0f-67d467f7c6da",
        "colab": {
          "base_uri": "https://localhost:8080/",
          "height": 282
        }
      },
      "source": [
        "#check distribution of remove_from_cart for both groups\n",
        "plt.hist(df_pyes['remove_from_cart'], alpha= .5)\n",
        "\n",
        "print(stats.describe(df_pyes['remove_from_cart']))"
      ],
      "execution_count": 0,
      "outputs": [
        {
          "output_type": "stream",
          "text": [
            "DescribeResult(nobs=31524, minmax=(0.0, 2480.0), mean=17.36936936936937, variance=2207.269202267013, skewness=16.520140286267846, kurtosis=553.9617569815751)\n"
          ],
          "name": "stdout"
        },
        {
          "output_type": "display_data",
          "data": {
            "image/png": "[encoded data removed]",
            "text/plain": [
              "<Figure size 432x288 with 1 Axes>"
            ]
          },
          "metadata": {
            "tags": []
          }
        }
      ]
    },
    {
      "cell_type": "code",
      "metadata": {
        "id": "8mnra-0-XRDF",
        "colab_type": "code",
        "outputId": "c5bf51a6-4056-4b7f-90e3-4e6a804c52c1",
        "colab": {
          "base_uri": "https://localhost:8080/",
          "height": 284
        }
      },
      "source": [
        "plt.hist(df_pno['remove_from_cart'], alpha= .5)\n",
        "\n",
        "print(stats.describe(df_pno['remove_from_cart']))"
      ],
      "execution_count": 0,
      "outputs": [
        {
          "output_type": "stream",
          "text": [
            "DescribeResult(nobs=336708, minmax=(0.0, 2407.0), mean=1.1224235836392364, variance=111.58902718820464, skewness=62.12770080133843, kurtosis=9714.148329641795)\n"
          ],
          "name": "stdout"
        },
        {
          "output_type": "display_data",
          "data": {
            "image/png": "[encoded data removed]",
            "text/plain": [
              "<Figure size 432x288 with 1 Axes>"
            ]
          },
          "metadata": {
            "tags": []
          }
        }
      ]
    },
    {
      "cell_type": "code",
      "metadata": {
        "id": "Pj_gISkdXZg2",
        "colab_type": "code",
        "outputId": "626d8f76-a903-43ba-97a3-a250cd0751f8",
        "colab": {
          "base_uri": "https://localhost:8080/",
          "height": 34
        }
      },
      "source": [
        "# data is not normally distributed so cannot run ttest--> instead run Kurskal\n",
        "stats.kruskal(df_pyes['remove_from_cart'], df_pno['remove_from_cart'])"
      ],
      "execution_count": 0,
      "outputs": [
        {
          "output_type": "execute_result",
          "data": {
            "text/plain": [
              "KruskalResult(statistic=123079.0232377109, pvalue=0.0)"
            ]
          },
          "metadata": {
            "tags": []
          },
          "execution_count": 78
        }
      ]
    },
    {
      "cell_type": "code",
      "metadata": {
        "id": "KY0aPDtgXdVd",
        "colab_type": "code",
        "colab": {}
      },
      "source": [
        "# sig difference between means --> reject null hypoth"
      ],
      "execution_count": 0,
      "outputs": []
    },
    {
      "cell_type": "code",
      "metadata": {
        "id": "Onn1iaKqXhXC",
        "colab_type": "code",
        "outputId": "c8478335-5be3-40b3-c398-571d6782e2c2",
        "colab": {
          "base_uri": "https://localhost:8080/",
          "height": 282
        }
      },
      "source": [
        "plt.plot(dfp['remove_from_cart'], dfp['purchase'],\"o\", markersize=2 )\n",
        "print('remove from cart purchase correlation', dfp['remove_from_cart'].corr(dfp['purchase']))"
      ],
      "execution_count": 0,
      "outputs": [
        {
          "output_type": "stream",
          "text": [
            "remove from cart purchase correlation 0.37529942673640854\n"
          ],
          "name": "stdout"
        },
        {
          "output_type": "display_data",
          "data": {
            "image/png": "[encoded data removed]",
            "text/plain": [
              "<Figure size 432x288 with 1 Axes>"
            ]
          },
          "metadata": {
            "tags": []
          }
        }
      ]
    },
    {
      "cell_type": "code",
      "metadata": {
        "id": "rlwl3LTx0t8s",
        "colab_type": "code",
        "outputId": "dec3c66d-06b8-4220-a3e8-a90035484f3e",
        "colab": {
          "base_uri": "https://localhost:8080/",
          "height": 282
        }
      },
      "source": [
        "plt.plot(dfp['purchase'], dfp['remove_from_cart'],\"o\", markersize=2 )\n",
        "print('purchase remove from cart correlation', dfp['remove_from_cart'].corr(dfp['purchase']))"
      ],
      "execution_count": 0,
      "outputs": [
        {
          "output_type": "stream",
          "text": [
            "purchase remove from cart correlation 0.37529942673640854\n"
          ],
          "name": "stdout"
        },
        {
          "output_type": "display_data",
          "data": {
            "image/png": "[encoded data removed]",
            "text/plain": [
              "<Figure size 432x288 with 1 Axes>"
            ]
          },
          "metadata": {
            "tags": []
          }
        }
      ]
    },
    {
      "cell_type": "code",
      "metadata": {
        "id": "yZdjka_0ZTBS",
        "colab_type": "code",
        "outputId": "974f1d9e-cd5b-43a9-a1d6-e7aea54cfe41",
        "colab": {
          "base_uri": "https://localhost:8080/",
          "height": 281
        }
      },
      "source": [
        "# create line graph\n",
        "plt.plot(dfp.loc[dfp['purchase'] > 0].groupby('remove_from_cart')['remove_from_cart'].count(), label='Purchase')\n",
        "plt.plot(dfp.loc[dfp['purchase'] == 0 ].groupby('remove_from_cart')['remove_from_cart'].count(), label='No-purchase')\n",
        "plt.title('Count of remove_from_cart by Purchase')\n",
        "plt.legend()\n",
        "plt.show()"
      ],
      "execution_count": 0,
      "outputs": [
        {
          "output_type": "display_data",
          "data": {
            "image/png": "[encoded data removed]",
            "text/plain": [
              "<Figure size 432x288 with 1 Axes>"
            ]
          },
          "metadata": {
            "tags": []
          }
        }
      ]
    },
    {
      "cell_type": "code",
      "metadata": {
        "colab_type": "code",
        "outputId": "9290b51f-2a1d-425a-9f29-756c07761216",
        "id": "P6-lL-nWhCW8",
        "colab": {
          "base_uri": "https://localhost:8080/",
          "height": 281
        }
      },
      "source": [
        "sns.boxenplot('buy', 'cart', data=dfp)\n",
        "plt.show()"
      ],
      "execution_count": 0,
      "outputs": [
        {
          "output_type": "display_data",
          "data": {
            "image/png": "[encoded data removed]",
            "text/plain": [
              "<Figure size 432x288 with 1 Axes>"
            ]
          },
          "metadata": {
            "tags": []
          }
        }
      ]
    },
    {
      "cell_type": "code",
      "metadata": {
        "id": "YSg-CiQ8hQIs",
        "colab_type": "code",
        "outputId": "7849a7c2-b356-4826-e717-44a466a0de6c",
        "colab": {
          "base_uri": "https://localhost:8080/",
          "height": 279
        }
      },
      "source": [
        "sns.boxenplot('buy', 'remove_from_cart', data=dfp)\n",
        "plt.show()"
      ],
      "execution_count": 0,
      "outputs": [
        {
          "output_type": "display_data",
          "data": {
            "image/png": "[encoded data removed]",
            "text/plain": [
              "<Figure size 432x288 with 1 Axes>"
            ]
          },
          "metadata": {
            "tags": []
          }
        }
      ]
    },
    {
      "cell_type": "code",
      "metadata": {
        "id": "vixErqW7efqD",
        "colab_type": "code",
        "outputId": "17fabb21-f963-452c-daaf-b8e00dbe2bb5",
        "colab": {
          "base_uri": "https://localhost:8080/",
          "height": 280
        }
      },
      "source": [
        "sns.boxenplot('buy', 'cart', hue='remove', data=dfp)\n",
        "plt.show()"
      ],
      "execution_count": 0,
      "outputs": [
        {
          "output_type": "display_data",
          "data": {
            "image/png": "[encoded data removed]",
            "text/plain": [
              "<Figure size 432x288 with 1 Axes>"
            ]
          },
          "metadata": {
            "tags": []
          }
        }
      ]
    },
    {
      "cell_type": "code",
      "metadata": {
        "id": "S7vgaJJwfHOk",
        "colab_type": "code",
        "outputId": "759ad7d3-5c7e-4978-8e50-ba0ccf96c9a1",
        "colab": {
          "base_uri": "https://localhost:8080/",
          "height": 279
        }
      },
      "source": [
        "sns.boxenplot('remove', 'purchase', data=dfp)\n",
        "plt.show()"
      ],
      "execution_count": 0,
      "outputs": [
        {
          "output_type": "display_data",
          "data": {
            "image/png": "[encoded data removed]",
            "text/plain": [
              "<Figure size 432x288 with 1 Axes>"
            ]
          },
          "metadata": {
            "tags": []
          }
        }
      ]
    },
    {
      "cell_type": "code",
      "metadata": {
        "id": "mazKQxztDwEg",
        "colab_type": "code",
        "outputId": "60cda4ef-e56b-4fcf-99f1-f22a1e127462",
        "colab": {
          "base_uri": "https://localhost:8080/",
          "height": 279
        }
      },
      "source": [
        "sns.boxenplot('buy', 'remove_from_cart', data=dfp)\n",
        "plt.show()"
      ],
      "execution_count": 0,
      "outputs": [
        {
          "output_type": "display_data",
          "data": {
            "image/png": "[encoded data removed]",
            "text/plain": [
              "<Figure size 432x288 with 1 Axes>"
            ]
          },
          "metadata": {
            "tags": []
          }
        }
      ]
    }
  ]
}