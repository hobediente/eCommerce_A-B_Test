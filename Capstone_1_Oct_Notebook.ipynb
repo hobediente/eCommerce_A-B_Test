{
  "nbformat": 4,
  "nbformat_minor": 0,
  "metadata": {
    "colab": {
      "name": "Copy of Capstone1.2 OCT.ipynb",
      "provenance": [],
      "authorship_tag": "ABX9TyMgIB7gyB2kXueaSsuQ0zdY",
      "include_colab_link": true
    },
    "kernelspec": {
      "name": "python3",
      "display_name": "Python 3"
    }
  },
  "cells": [
    {
      "cell_type": "markdown",
      "metadata": {
        "id": "view-in-github",
        "colab_type": "text"
      },
      "source": [
        "<a href=\"https://colab.research.google.com/github/hobediente/eCommerce_AB_Test/blob/master/Capstone_1_Oct_Notebook.ipynb\" target=\"_parent\"><img src=\"https://colab.research.google.com/assets/colab-badge.svg\" alt=\"Open In Colab\"/></a>"
      ]
    },
    {
      "cell_type": "code",
      "metadata": {
        "id": "0XKuJId6TGXh",
        "colab_type": "code",
        "colab": {}
      },
      "source": [
        "#import appropriate libraries\n",
        "import pandas as pd\n",
        "import numpy as np\n",
        "from scipy import stats\n",
        "import seaborn as sns\n",
        "%matplotlib inline\n",
        "import matplotlib.pyplot as plt"
      ],
      "execution_count": 0,
      "outputs": []
    },
    {
      "cell_type": "code",
      "metadata": {
        "id": "rTFh7-0TTNM3",
        "colab_type": "code",
        "outputId": "525889a1-16d8-490c-8daf-b52404e057b1",
        "colab": {
          "base_uri": "https://localhost:8080/",
          "height": 34
        }
      },
      "source": [
        "from google.colab import drive\n",
        "drive.mount('/content/drive')"
      ],
      "execution_count": 0,
      "outputs": [
        {
          "output_type": "stream",
          "text": [
            "Drive already mounted at /content/drive; to attempt to forcibly remount, call drive.mount(\"/content/drive\", force_remount=True).\n"
          ],
          "name": "stdout"
        }
      ]
    },
    {
      "cell_type": "code",
      "metadata": {
        "id": "s1Y_yNi_TQ6W",
        "colab_type": "code",
        "colab": {}
      },
      "source": [
        "path= \"/content/drive/My Drive/2019-Oct.csv\"\n",
        "df = pd.read_csv(path)"
      ],
      "execution_count": 0,
      "outputs": []
    },
    {
      "cell_type": "code",
      "metadata": {
        "id": "ka45_bW8TqyQ",
        "colab_type": "code",
        "outputId": "e7d44fbf-c712-44c2-b0dc-d99d1d85a964",
        "colab": {
          "base_uri": "https://localhost:8080/",
          "height": 442
        }
      },
      "source": [
        "# Get descrip stats \n",
        "df.info()\n",
        "df. head()"
      ],
      "execution_count": 0,
      "outputs": [
        {
          "output_type": "stream",
          "text": [
            "<class 'pandas.core.frame.DataFrame'>\n",
            "RangeIndex: 4102283 entries, 0 to 4102282\n",
            "Data columns (total 9 columns):\n",
            "event_time       object\n",
            "event_type       object\n",
            "product_id       int64\n",
            "category_id      int64\n",
            "category_code    object\n",
            "brand            object\n",
            "price            float64\n",
            "user_id          int64\n",
            "user_session     object\n",
            "dtypes: float64(1), int64(3), object(5)\n",
            "memory usage: 281.7+ MB\n"
          ],
          "name": "stdout"
        },
        {
          "output_type": "execute_result",
          "data": {
            "text/html": [
              "<div>\n",
              "<style scoped>\n",
              "    .dataframe tbody tr th:only-of-type {\n",
              "        vertical-align: middle;\n",
              "    }\n",
              "\n",
              "    .dataframe tbody tr th {\n",
              "        vertical-align: top;\n",
              "    }\n",
              "\n",
              "    .dataframe thead th {\n",
              "        text-align: right;\n",
              "    }\n",
              "</style>\n",
              "<table border=\"1\" class=\"dataframe\">\n",
              "  <thead>\n",
              "    <tr style=\"text-align: right;\">\n",
              "      <th></th>\n",
              "      <th>event_time</th>\n",
              "      <th>event_type</th>\n",
              "      <th>product_id</th>\n",
              "      <th>category_id</th>\n",
              "      <th>category_code</th>\n",
              "      <th>brand</th>\n",
              "      <th>price</th>\n",
              "      <th>user_id</th>\n",
              "      <th>user_session</th>\n",
              "    </tr>\n",
              "  </thead>\n",
              "  <tbody>\n",
              "    <tr>\n",
              "      <th>0</th>\n",
              "      <td>2019-10-01 00:00:00 UTC</td>\n",
              "      <td>cart</td>\n",
              "      <td>5773203</td>\n",
              "      <td>1487580005134238553</td>\n",
              "      <td>NaN</td>\n",
              "      <td>runail</td>\n",
              "      <td>2.62</td>\n",
              "      <td>463240011</td>\n",
              "      <td>26dd6e6e-4dac-4778-8d2c-92e149dab885</td>\n",
              "    </tr>\n",
              "    <tr>\n",
              "      <th>1</th>\n",
              "      <td>2019-10-01 00:00:03 UTC</td>\n",
              "      <td>cart</td>\n",
              "      <td>5773353</td>\n",
              "      <td>1487580005134238553</td>\n",
              "      <td>NaN</td>\n",
              "      <td>runail</td>\n",
              "      <td>2.62</td>\n",
              "      <td>463240011</td>\n",
              "      <td>26dd6e6e-4dac-4778-8d2c-92e149dab885</td>\n",
              "    </tr>\n",
              "    <tr>\n",
              "      <th>2</th>\n",
              "      <td>2019-10-01 00:00:07 UTC</td>\n",
              "      <td>cart</td>\n",
              "      <td>5881589</td>\n",
              "      <td>2151191071051219817</td>\n",
              "      <td>NaN</td>\n",
              "      <td>lovely</td>\n",
              "      <td>13.48</td>\n",
              "      <td>429681830</td>\n",
              "      <td>49e8d843-adf3-428b-a2c3-fe8bc6a307c9</td>\n",
              "    </tr>\n",
              "    <tr>\n",
              "      <th>3</th>\n",
              "      <td>2019-10-01 00:00:07 UTC</td>\n",
              "      <td>cart</td>\n",
              "      <td>5723490</td>\n",
              "      <td>1487580005134238553</td>\n",
              "      <td>NaN</td>\n",
              "      <td>runail</td>\n",
              "      <td>2.62</td>\n",
              "      <td>463240011</td>\n",
              "      <td>26dd6e6e-4dac-4778-8d2c-92e149dab885</td>\n",
              "    </tr>\n",
              "    <tr>\n",
              "      <th>4</th>\n",
              "      <td>2019-10-01 00:00:15 UTC</td>\n",
              "      <td>cart</td>\n",
              "      <td>5881449</td>\n",
              "      <td>1487580013522845895</td>\n",
              "      <td>NaN</td>\n",
              "      <td>lovely</td>\n",
              "      <td>0.56</td>\n",
              "      <td>429681830</td>\n",
              "      <td>49e8d843-adf3-428b-a2c3-fe8bc6a307c9</td>\n",
              "    </tr>\n",
              "  </tbody>\n",
              "</table>\n",
              "</div>"
            ],
            "text/plain": [
              "                event_time  ...                          user_session\n",
              "0  2019-10-01 00:00:00 UTC  ...  26dd6e6e-4dac-4778-8d2c-92e149dab885\n",
              "1  2019-10-01 00:00:03 UTC  ...  26dd6e6e-4dac-4778-8d2c-92e149dab885\n",
              "2  2019-10-01 00:00:07 UTC  ...  49e8d843-adf3-428b-a2c3-fe8bc6a307c9\n",
              "3  2019-10-01 00:00:07 UTC  ...  26dd6e6e-4dac-4778-8d2c-92e149dab885\n",
              "4  2019-10-01 00:00:15 UTC  ...  49e8d843-adf3-428b-a2c3-fe8bc6a307c9\n",
              "\n",
              "[5 rows x 9 columns]"
            ]
          },
          "metadata": {
            "tags": []
          },
          "execution_count": 6
        }
      ]
    },
    {
      "cell_type": "code",
      "metadata": {
        "id": "wFHhc2NJTxxu",
        "colab_type": "code",
        "outputId": "a7cb3287-a30e-4fee-b489-f195c44f2801",
        "colab": {
          "base_uri": "https://localhost:8080/",
          "height": 187
        }
      },
      "source": [
        "# check for nulls\n",
        "df.isna().sum()"
      ],
      "execution_count": 0,
      "outputs": [
        {
          "output_type": "execute_result",
          "data": {
            "text/plain": [
              "event_time             0\n",
              "event_type             0\n",
              "product_id             0\n",
              "category_id            0\n",
              "category_code    4034806\n",
              "brand            1659261\n",
              "price                  0\n",
              "user_id                0\n",
              "user_session         637\n",
              "dtype: int64"
            ]
          },
          "metadata": {
            "tags": []
          },
          "execution_count": 35
        }
      ]
    },
    {
      "cell_type": "code",
      "metadata": {
        "id": "dib6Py8iT3zF",
        "colab_type": "code",
        "colab": {}
      },
      "source": [
        "# drop columns I don't need\n",
        "dfd= df.drop(['event_time', 'product_id', 'category_id', 'category_code', 'brand', 'user_session'], axis=1)"
      ],
      "execution_count": 0,
      "outputs": []
    },
    {
      "cell_type": "code",
      "metadata": {
        "id": "xwh7K9yaT7E4",
        "colab_type": "code",
        "outputId": "dca80964-6b39-4259-c111-aaebd91b9926",
        "colab": {
          "base_uri": "https://localhost:8080/",
          "height": 340
        }
      },
      "source": [
        "# get info on the new columns\n",
        "dfd.info()\n",
        "dfd.head()"
      ],
      "execution_count": 0,
      "outputs": [
        {
          "output_type": "stream",
          "text": [
            "<class 'pandas.core.frame.DataFrame'>\n",
            "RangeIndex: 4102283 entries, 0 to 4102282\n",
            "Data columns (total 3 columns):\n",
            "event_type    object\n",
            "price         float64\n",
            "user_id       int64\n",
            "dtypes: float64(1), int64(1), object(1)\n",
            "memory usage: 93.9+ MB\n"
          ],
          "name": "stdout"
        },
        {
          "output_type": "execute_result",
          "data": {
            "text/html": [
              "<div>\n",
              "<style scoped>\n",
              "    .dataframe tbody tr th:only-of-type {\n",
              "        vertical-align: middle;\n",
              "    }\n",
              "\n",
              "    .dataframe tbody tr th {\n",
              "        vertical-align: top;\n",
              "    }\n",
              "\n",
              "    .dataframe thead th {\n",
              "        text-align: right;\n",
              "    }\n",
              "</style>\n",
              "<table border=\"1\" class=\"dataframe\">\n",
              "  <thead>\n",
              "    <tr style=\"text-align: right;\">\n",
              "      <th></th>\n",
              "      <th>event_type</th>\n",
              "      <th>price</th>\n",
              "      <th>user_id</th>\n",
              "    </tr>\n",
              "  </thead>\n",
              "  <tbody>\n",
              "    <tr>\n",
              "      <th>0</th>\n",
              "      <td>cart</td>\n",
              "      <td>2.62</td>\n",
              "      <td>463240011</td>\n",
              "    </tr>\n",
              "    <tr>\n",
              "      <th>1</th>\n",
              "      <td>cart</td>\n",
              "      <td>2.62</td>\n",
              "      <td>463240011</td>\n",
              "    </tr>\n",
              "    <tr>\n",
              "      <th>2</th>\n",
              "      <td>cart</td>\n",
              "      <td>13.48</td>\n",
              "      <td>429681830</td>\n",
              "    </tr>\n",
              "    <tr>\n",
              "      <th>3</th>\n",
              "      <td>cart</td>\n",
              "      <td>2.62</td>\n",
              "      <td>463240011</td>\n",
              "    </tr>\n",
              "    <tr>\n",
              "      <th>4</th>\n",
              "      <td>cart</td>\n",
              "      <td>0.56</td>\n",
              "      <td>429681830</td>\n",
              "    </tr>\n",
              "  </tbody>\n",
              "</table>\n",
              "</div>"
            ],
            "text/plain": [
              "  event_type  price    user_id\n",
              "0       cart   2.62  463240011\n",
              "1       cart   2.62  463240011\n",
              "2       cart  13.48  429681830\n",
              "3       cart   2.62  463240011\n",
              "4       cart   0.56  429681830"
            ]
          },
          "metadata": {
            "tags": []
          },
          "execution_count": 37
        }
      ]
    },
    {
      "cell_type": "markdown",
      "metadata": {
        "id": "EtBL4Xh_3RxC",
        "colab_type": "text"
      },
      "source": [
        "Ho: Removing something from a cart and adding something to a cart equally indicate a purchase \n",
        "\n",
        "\n",
        "Ha: Removing something from a cart better indicates a purchase than adding something to a cart "
      ]
    },
    {
      "cell_type": "code",
      "metadata": {
        "id": "unjVLJXKPJeX",
        "colab_type": "code",
        "outputId": "e7cdf4d5-33ba-4d9b-9999-c189b5c54e21",
        "colab": {
          "base_uri": "https://localhost:8080/",
          "height": 255
        }
      },
      "source": [
        "# set every price to 1\n",
        "dfd.loc[:, 'price']=1\n",
        "print (dfd)"
      ],
      "execution_count": 0,
      "outputs": [
        {
          "output_type": "stream",
          "text": [
            "               event_type  price    user_id\n",
            "0                    cart      1  463240011\n",
            "1                    cart      1  463240011\n",
            "2                    cart      1  429681830\n",
            "3                    cart      1  463240011\n",
            "4                    cart      1  429681830\n",
            "...                   ...    ...        ...\n",
            "4102278  remove_from_cart      1  429913900\n",
            "4102279              view      1  556138645\n",
            "4102280              view      1  564441099\n",
            "4102281              view      1  429913900\n",
            "4102282              view      1  566280798\n",
            "\n",
            "[4102283 rows x 3 columns]\n"
          ],
          "name": "stdout"
        }
      ]
    },
    {
      "cell_type": "code",
      "metadata": {
        "id": "jZwCYwxJVxwl",
        "colab_type": "code",
        "colab": {}
      },
      "source": [
        "# create new df for pivoted data\n",
        "dfp= pd.pivot_table(dfd, index='user_id', columns='event_type', values='price', aggfunc='sum')"
      ],
      "execution_count": 0,
      "outputs": []
    },
    {
      "cell_type": "code",
      "metadata": {
        "id": "xD5HRC9vWFZI",
        "colab_type": "code",
        "colab": {}
      },
      "source": [
        "# reset index\n",
        "dfp = dfp.reset_index()"
      ],
      "execution_count": 0,
      "outputs": []
    },
    {
      "cell_type": "code",
      "metadata": {
        "id": "pKvB2WfcWNvj",
        "colab_type": "code",
        "outputId": "e4f16c03-3f41-41b0-eb96-a5d01b6456ae",
        "colab": {
          "base_uri": "https://localhost:8080/",
          "height": 374
        }
      },
      "source": [
        "dfp.info()\n",
        "dfp.head()"
      ],
      "execution_count": 0,
      "outputs": [
        {
          "output_type": "stream",
          "text": [
            "<class 'pandas.core.frame.DataFrame'>\n",
            "RangeIndex: 399664 entries, 0 to 399663\n",
            "Data columns (total 5 columns):\n",
            "user_id             399664 non-null int64\n",
            "cart                133818 non-null float64\n",
            "purchase            25762 non-null float64\n",
            "remove_from_cart    47090 non-null float64\n",
            "view                388331 non-null float64\n",
            "dtypes: float64(4), int64(1)\n",
            "memory usage: 15.2 MB\n"
          ],
          "name": "stdout"
        },
        {
          "output_type": "execute_result",
          "data": {
            "text/html": [
              "<div>\n",
              "<style scoped>\n",
              "    .dataframe tbody tr th:only-of-type {\n",
              "        vertical-align: middle;\n",
              "    }\n",
              "\n",
              "    .dataframe tbody tr th {\n",
              "        vertical-align: top;\n",
              "    }\n",
              "\n",
              "    .dataframe thead th {\n",
              "        text-align: right;\n",
              "    }\n",
              "</style>\n",
              "<table border=\"1\" class=\"dataframe\">\n",
              "  <thead>\n",
              "    <tr style=\"text-align: right;\">\n",
              "      <th>event_type</th>\n",
              "      <th>user_id</th>\n",
              "      <th>cart</th>\n",
              "      <th>purchase</th>\n",
              "      <th>remove_from_cart</th>\n",
              "      <th>view</th>\n",
              "    </tr>\n",
              "  </thead>\n",
              "  <tbody>\n",
              "    <tr>\n",
              "      <th>0</th>\n",
              "      <td>4103071</td>\n",
              "      <td>1.0</td>\n",
              "      <td>NaN</td>\n",
              "      <td>NaN</td>\n",
              "      <td>7.0</td>\n",
              "    </tr>\n",
              "    <tr>\n",
              "      <th>1</th>\n",
              "      <td>8846226</td>\n",
              "      <td>24.0</td>\n",
              "      <td>NaN</td>\n",
              "      <td>16.0</td>\n",
              "      <td>7.0</td>\n",
              "    </tr>\n",
              "    <tr>\n",
              "      <th>2</th>\n",
              "      <td>9794320</td>\n",
              "      <td>13.0</td>\n",
              "      <td>NaN</td>\n",
              "      <td>4.0</td>\n",
              "      <td>3.0</td>\n",
              "    </tr>\n",
              "    <tr>\n",
              "      <th>3</th>\n",
              "      <td>10280338</td>\n",
              "      <td>26.0</td>\n",
              "      <td>NaN</td>\n",
              "      <td>30.0</td>\n",
              "      <td>26.0</td>\n",
              "    </tr>\n",
              "    <tr>\n",
              "      <th>4</th>\n",
              "      <td>10702733</td>\n",
              "      <td>NaN</td>\n",
              "      <td>NaN</td>\n",
              "      <td>NaN</td>\n",
              "      <td>2.0</td>\n",
              "    </tr>\n",
              "  </tbody>\n",
              "</table>\n",
              "</div>"
            ],
            "text/plain": [
              "event_type   user_id  cart  purchase  remove_from_cart  view\n",
              "0            4103071   1.0       NaN               NaN   7.0\n",
              "1            8846226  24.0       NaN              16.0   7.0\n",
              "2            9794320  13.0       NaN               4.0   3.0\n",
              "3           10280338  26.0       NaN              30.0  26.0\n",
              "4           10702733   NaN       NaN               NaN   2.0"
            ]
          },
          "metadata": {
            "tags": []
          },
          "execution_count": 41
        }
      ]
    },
    {
      "cell_type": "code",
      "metadata": {
        "id": "GTa-rtqgWTyG",
        "colab_type": "code",
        "colab": {}
      },
      "source": [
        "# replace null values with 0\n",
        "dfp.fillna(value=0, inplace=True)"
      ],
      "execution_count": 0,
      "outputs": []
    },
    {
      "cell_type": "code",
      "metadata": {
        "id": "Wk5FEtGoWZ0g",
        "colab_type": "code",
        "outputId": "24e475a4-9605-4151-a5a8-a872ccb48f78",
        "colab": {
          "base_uri": "https://localhost:8080/",
          "height": 204
        }
      },
      "source": [
        "dfp.head()"
      ],
      "execution_count": 0,
      "outputs": [
        {
          "output_type": "execute_result",
          "data": {
            "text/html": [
              "<div>\n",
              "<style scoped>\n",
              "    .dataframe tbody tr th:only-of-type {\n",
              "        vertical-align: middle;\n",
              "    }\n",
              "\n",
              "    .dataframe tbody tr th {\n",
              "        vertical-align: top;\n",
              "    }\n",
              "\n",
              "    .dataframe thead th {\n",
              "        text-align: right;\n",
              "    }\n",
              "</style>\n",
              "<table border=\"1\" class=\"dataframe\">\n",
              "  <thead>\n",
              "    <tr style=\"text-align: right;\">\n",
              "      <th>event_type</th>\n",
              "      <th>user_id</th>\n",
              "      <th>cart</th>\n",
              "      <th>purchase</th>\n",
              "      <th>remove_from_cart</th>\n",
              "      <th>view</th>\n",
              "    </tr>\n",
              "  </thead>\n",
              "  <tbody>\n",
              "    <tr>\n",
              "      <th>0</th>\n",
              "      <td>4103071</td>\n",
              "      <td>1.0</td>\n",
              "      <td>0.0</td>\n",
              "      <td>0.0</td>\n",
              "      <td>7.0</td>\n",
              "    </tr>\n",
              "    <tr>\n",
              "      <th>1</th>\n",
              "      <td>8846226</td>\n",
              "      <td>24.0</td>\n",
              "      <td>0.0</td>\n",
              "      <td>16.0</td>\n",
              "      <td>7.0</td>\n",
              "    </tr>\n",
              "    <tr>\n",
              "      <th>2</th>\n",
              "      <td>9794320</td>\n",
              "      <td>13.0</td>\n",
              "      <td>0.0</td>\n",
              "      <td>4.0</td>\n",
              "      <td>3.0</td>\n",
              "    </tr>\n",
              "    <tr>\n",
              "      <th>3</th>\n",
              "      <td>10280338</td>\n",
              "      <td>26.0</td>\n",
              "      <td>0.0</td>\n",
              "      <td>30.0</td>\n",
              "      <td>26.0</td>\n",
              "    </tr>\n",
              "    <tr>\n",
              "      <th>4</th>\n",
              "      <td>10702733</td>\n",
              "      <td>0.0</td>\n",
              "      <td>0.0</td>\n",
              "      <td>0.0</td>\n",
              "      <td>2.0</td>\n",
              "    </tr>\n",
              "  </tbody>\n",
              "</table>\n",
              "</div>"
            ],
            "text/plain": [
              "event_type   user_id  cart  purchase  remove_from_cart  view\n",
              "0            4103071   1.0       0.0               0.0   7.0\n",
              "1            8846226  24.0       0.0              16.0   7.0\n",
              "2            9794320  13.0       0.0               4.0   3.0\n",
              "3           10280338  26.0       0.0              30.0  26.0\n",
              "4           10702733   0.0       0.0               0.0   2.0"
            ]
          },
          "metadata": {
            "tags": []
          },
          "execution_count": 43
        }
      ]
    },
    {
      "cell_type": "code",
      "metadata": {
        "id": "JUtvs98hWckO",
        "colab_type": "code",
        "outputId": "8f938419-74f3-4637-99a5-b80eb7a08630",
        "colab": {
          "base_uri": "https://localhost:8080/",
          "height": 221
        }
      },
      "source": [
        "# make sure user_id is unique value\n",
        "dfp['user_id'].value_counts()"
      ],
      "execution_count": 0,
      "outputs": [
        {
          "output_type": "execute_result",
          "data": {
            "text/plain": [
              "564951688    1\n",
              "555590369    1\n",
              "559771232    1\n",
              "476375752    1\n",
              "557120202    1\n",
              "            ..\n",
              "557546949    1\n",
              "438005191    1\n",
              "557212401    1\n",
              "553852361    1\n",
              "494927872    1\n",
              "Name: user_id, Length: 399664, dtype: int64"
            ]
          },
          "metadata": {
            "tags": []
          },
          "execution_count": 44
        }
      ]
    },
    {
      "cell_type": "code",
      "metadata": {
        "id": "LFnPuHnzWmTa",
        "colab_type": "code",
        "colab": {}
      },
      "source": [
        "# rename event_type to something else \n",
        "dfp.columns = ['user_id', 'cart', 'purchase','remove_from_cart', 'view']"
      ],
      "execution_count": 0,
      "outputs": []
    },
    {
      "cell_type": "code",
      "metadata": {
        "id": "5w95yFIZ5qWL",
        "colab_type": "code",
        "colab": {}
      },
      "source": [
        "# drop user_id whos cart is = to 0\n",
        "# bc we are analyzing people who only added to cart v. added and removed from cart \n",
        "dfp.drop( dfp[ dfp['cart'] == 0 ].index , inplace=True)"
      ],
      "execution_count": 0,
      "outputs": []
    },
    {
      "cell_type": "code",
      "metadata": {
        "id": "oq0mBZWHWrdM",
        "colab_type": "code",
        "outputId": "b3d2a74a-d753-440e-ff81-266547e57f84",
        "colab": {
          "base_uri": "https://localhost:8080/",
          "height": 204
        }
      },
      "source": [
        "# make sure event_type is gone\n",
        "dfp.head()"
      ],
      "execution_count": 0,
      "outputs": [
        {
          "output_type": "execute_result",
          "data": {
            "text/html": [
              "<div>\n",
              "<style scoped>\n",
              "    .dataframe tbody tr th:only-of-type {\n",
              "        vertical-align: middle;\n",
              "    }\n",
              "\n",
              "    .dataframe tbody tr th {\n",
              "        vertical-align: top;\n",
              "    }\n",
              "\n",
              "    .dataframe thead th {\n",
              "        text-align: right;\n",
              "    }\n",
              "</style>\n",
              "<table border=\"1\" class=\"dataframe\">\n",
              "  <thead>\n",
              "    <tr style=\"text-align: right;\">\n",
              "      <th></th>\n",
              "      <th>user_id</th>\n",
              "      <th>cart</th>\n",
              "      <th>purchase</th>\n",
              "      <th>remove_from_cart</th>\n",
              "      <th>view</th>\n",
              "    </tr>\n",
              "  </thead>\n",
              "  <tbody>\n",
              "    <tr>\n",
              "      <th>0</th>\n",
              "      <td>4103071</td>\n",
              "      <td>1.0</td>\n",
              "      <td>0.0</td>\n",
              "      <td>0.0</td>\n",
              "      <td>7.0</td>\n",
              "    </tr>\n",
              "    <tr>\n",
              "      <th>1</th>\n",
              "      <td>8846226</td>\n",
              "      <td>24.0</td>\n",
              "      <td>0.0</td>\n",
              "      <td>16.0</td>\n",
              "      <td>7.0</td>\n",
              "    </tr>\n",
              "    <tr>\n",
              "      <th>2</th>\n",
              "      <td>9794320</td>\n",
              "      <td>13.0</td>\n",
              "      <td>0.0</td>\n",
              "      <td>4.0</td>\n",
              "      <td>3.0</td>\n",
              "    </tr>\n",
              "    <tr>\n",
              "      <th>3</th>\n",
              "      <td>10280338</td>\n",
              "      <td>26.0</td>\n",
              "      <td>0.0</td>\n",
              "      <td>30.0</td>\n",
              "      <td>26.0</td>\n",
              "    </tr>\n",
              "    <tr>\n",
              "      <th>5</th>\n",
              "      <td>10968431</td>\n",
              "      <td>1.0</td>\n",
              "      <td>0.0</td>\n",
              "      <td>0.0</td>\n",
              "      <td>1.0</td>\n",
              "    </tr>\n",
              "  </tbody>\n",
              "</table>\n",
              "</div>"
            ],
            "text/plain": [
              "    user_id  cart  purchase  remove_from_cart  view\n",
              "0   4103071   1.0       0.0               0.0   7.0\n",
              "1   8846226  24.0       0.0              16.0   7.0\n",
              "2   9794320  13.0       0.0               4.0   3.0\n",
              "3  10280338  26.0       0.0              30.0  26.0\n",
              "5  10968431   1.0       0.0               0.0   1.0"
            ]
          },
          "metadata": {
            "tags": []
          },
          "execution_count": 47
        }
      ]
    },
    {
      "cell_type": "code",
      "metadata": {
        "id": "Zjoyecqw2xK_",
        "colab_type": "code",
        "outputId": "dcca0185-1a31-457e-8aa9-eb99ebc6004a",
        "colab": {
          "base_uri": "https://localhost:8080/",
          "height": 297
        }
      },
      "source": [
        "# check out range etc.\n",
        "dfp.describe()"
      ],
      "execution_count": 0,
      "outputs": [
        {
          "output_type": "execute_result",
          "data": {
            "text/html": [
              "<div>\n",
              "<style scoped>\n",
              "    .dataframe tbody tr th:only-of-type {\n",
              "        vertical-align: middle;\n",
              "    }\n",
              "\n",
              "    .dataframe tbody tr th {\n",
              "        vertical-align: top;\n",
              "    }\n",
              "\n",
              "    .dataframe thead th {\n",
              "        text-align: right;\n",
              "    }\n",
              "</style>\n",
              "<table border=\"1\" class=\"dataframe\">\n",
              "  <thead>\n",
              "    <tr style=\"text-align: right;\">\n",
              "      <th></th>\n",
              "      <th>user_id</th>\n",
              "      <th>cart</th>\n",
              "      <th>purchase</th>\n",
              "      <th>remove_from_cart</th>\n",
              "      <th>view</th>\n",
              "    </tr>\n",
              "  </thead>\n",
              "  <tbody>\n",
              "    <tr>\n",
              "      <th>count</th>\n",
              "      <td>1.338180e+05</td>\n",
              "      <td>133818.000000</td>\n",
              "      <td>133818.000000</td>\n",
              "      <td>133818.000000</td>\n",
              "      <td>133818.000000</td>\n",
              "    </tr>\n",
              "    <tr>\n",
              "      <th>mean</th>\n",
              "      <td>5.259262e+08</td>\n",
              "      <td>9.209411</td>\n",
              "      <td>1.815107</td>\n",
              "      <td>5.598126</td>\n",
              "      <td>9.302672</td>\n",
              "    </tr>\n",
              "    <tr>\n",
              "      <th>std</th>\n",
              "      <td>6.757933e+07</td>\n",
              "      <td>20.530637</td>\n",
              "      <td>6.212029</td>\n",
              "      <td>24.428048</td>\n",
              "      <td>27.684004</td>\n",
              "    </tr>\n",
              "    <tr>\n",
              "      <th>min</th>\n",
              "      <td>4.103071e+06</td>\n",
              "      <td>1.000000</td>\n",
              "      <td>0.000000</td>\n",
              "      <td>0.000000</td>\n",
              "      <td>0.000000</td>\n",
              "    </tr>\n",
              "    <tr>\n",
              "      <th>25%</th>\n",
              "      <td>5.290840e+08</td>\n",
              "      <td>3.000000</td>\n",
              "      <td>0.000000</td>\n",
              "      <td>0.000000</td>\n",
              "      <td>1.000000</td>\n",
              "    </tr>\n",
              "    <tr>\n",
              "      <th>50%</th>\n",
              "      <td>5.560754e+08</td>\n",
              "      <td>3.000000</td>\n",
              "      <td>0.000000</td>\n",
              "      <td>0.000000</td>\n",
              "      <td>1.000000</td>\n",
              "    </tr>\n",
              "    <tr>\n",
              "      <th>75%</th>\n",
              "      <td>5.576364e+08</td>\n",
              "      <td>8.000000</td>\n",
              "      <td>0.000000</td>\n",
              "      <td>2.000000</td>\n",
              "      <td>7.000000</td>\n",
              "    </tr>\n",
              "    <tr>\n",
              "      <th>max</th>\n",
              "      <td>5.662803e+08</td>\n",
              "      <td>1129.000000</td>\n",
              "      <td>329.000000</td>\n",
              "      <td>2783.000000</td>\n",
              "      <td>2124.000000</td>\n",
              "    </tr>\n",
              "  </tbody>\n",
              "</table>\n",
              "</div>"
            ],
            "text/plain": [
              "            user_id           cart  ...  remove_from_cart           view\n",
              "count  1.338180e+05  133818.000000  ...     133818.000000  133818.000000\n",
              "mean   5.259262e+08       9.209411  ...          5.598126       9.302672\n",
              "std    6.757933e+07      20.530637  ...         24.428048      27.684004\n",
              "min    4.103071e+06       1.000000  ...          0.000000       0.000000\n",
              "25%    5.290840e+08       3.000000  ...          0.000000       1.000000\n",
              "50%    5.560754e+08       3.000000  ...          0.000000       1.000000\n",
              "75%    5.576364e+08       8.000000  ...          2.000000       7.000000\n",
              "max    5.662803e+08    1129.000000  ...       2783.000000    2124.000000\n",
              "\n",
              "[8 rows x 5 columns]"
            ]
          },
          "metadata": {
            "tags": []
          },
          "execution_count": 48
        }
      ]
    },
    {
      "cell_type": "code",
      "metadata": {
        "id": "M3Zmc-mncKlx",
        "colab_type": "code",
        "outputId": "4186f31e-b2af-4ac8-fa6c-115df7b50468",
        "colab": {
          "base_uri": "https://localhost:8080/",
          "height": 204
        }
      },
      "source": [
        "#assign an extra A/B column for purchase\n",
        "def buy(purchase):\n",
        "    if purchase >0:\n",
        "        return 'yes'\n",
        "    else:\n",
        "        return 'no'\n",
        "dfp['buy']= dfp['purchase'].apply(buy)\n",
        "dfp.head()"
      ],
      "execution_count": 0,
      "outputs": [
        {
          "output_type": "execute_result",
          "data": {
            "text/html": [
              "<div>\n",
              "<style scoped>\n",
              "    .dataframe tbody tr th:only-of-type {\n",
              "        vertical-align: middle;\n",
              "    }\n",
              "\n",
              "    .dataframe tbody tr th {\n",
              "        vertical-align: top;\n",
              "    }\n",
              "\n",
              "    .dataframe thead th {\n",
              "        text-align: right;\n",
              "    }\n",
              "</style>\n",
              "<table border=\"1\" class=\"dataframe\">\n",
              "  <thead>\n",
              "    <tr style=\"text-align: right;\">\n",
              "      <th></th>\n",
              "      <th>user_id</th>\n",
              "      <th>cart</th>\n",
              "      <th>purchase</th>\n",
              "      <th>remove_from_cart</th>\n",
              "      <th>view</th>\n",
              "      <th>buy</th>\n",
              "    </tr>\n",
              "  </thead>\n",
              "  <tbody>\n",
              "    <tr>\n",
              "      <th>0</th>\n",
              "      <td>4103071</td>\n",
              "      <td>1.0</td>\n",
              "      <td>0.0</td>\n",
              "      <td>0.0</td>\n",
              "      <td>7.0</td>\n",
              "      <td>no</td>\n",
              "    </tr>\n",
              "    <tr>\n",
              "      <th>1</th>\n",
              "      <td>8846226</td>\n",
              "      <td>24.0</td>\n",
              "      <td>0.0</td>\n",
              "      <td>16.0</td>\n",
              "      <td>7.0</td>\n",
              "      <td>no</td>\n",
              "    </tr>\n",
              "    <tr>\n",
              "      <th>2</th>\n",
              "      <td>9794320</td>\n",
              "      <td>13.0</td>\n",
              "      <td>0.0</td>\n",
              "      <td>4.0</td>\n",
              "      <td>3.0</td>\n",
              "      <td>no</td>\n",
              "    </tr>\n",
              "    <tr>\n",
              "      <th>3</th>\n",
              "      <td>10280338</td>\n",
              "      <td>26.0</td>\n",
              "      <td>0.0</td>\n",
              "      <td>30.0</td>\n",
              "      <td>26.0</td>\n",
              "      <td>no</td>\n",
              "    </tr>\n",
              "    <tr>\n",
              "      <th>5</th>\n",
              "      <td>10968431</td>\n",
              "      <td>1.0</td>\n",
              "      <td>0.0</td>\n",
              "      <td>0.0</td>\n",
              "      <td>1.0</td>\n",
              "      <td>no</td>\n",
              "    </tr>\n",
              "  </tbody>\n",
              "</table>\n",
              "</div>"
            ],
            "text/plain": [
              "    user_id  cart  purchase  remove_from_cart  view buy\n",
              "0   4103071   1.0       0.0               0.0   7.0  no\n",
              "1   8846226  24.0       0.0              16.0   7.0  no\n",
              "2   9794320  13.0       0.0               4.0   3.0  no\n",
              "3  10280338  26.0       0.0              30.0  26.0  no\n",
              "5  10968431   1.0       0.0               0.0   1.0  no"
            ]
          },
          "metadata": {
            "tags": []
          },
          "execution_count": 49
        }
      ]
    },
    {
      "cell_type": "code",
      "metadata": {
        "id": "ewojWZeoim7R",
        "colab_type": "code",
        "outputId": "d476ee8a-5634-4deb-a17e-9ca4879212bf",
        "colab": {
          "base_uri": "https://localhost:8080/",
          "height": 204
        }
      },
      "source": [
        "#assign an extra A/B column for remove_from_cart\n",
        "def remove(remove_from_cart):\n",
        "    if remove_from_cart >0:\n",
        "        return 'yes'\n",
        "    else:\n",
        "        return 'no'\n",
        "dfp['remove']= dfp['remove_from_cart'].apply(remove)\n",
        "dfp.head()"
      ],
      "execution_count": 0,
      "outputs": [
        {
          "output_type": "execute_result",
          "data": {
            "text/html": [
              "<div>\n",
              "<style scoped>\n",
              "    .dataframe tbody tr th:only-of-type {\n",
              "        vertical-align: middle;\n",
              "    }\n",
              "\n",
              "    .dataframe tbody tr th {\n",
              "        vertical-align: top;\n",
              "    }\n",
              "\n",
              "    .dataframe thead th {\n",
              "        text-align: right;\n",
              "    }\n",
              "</style>\n",
              "<table border=\"1\" class=\"dataframe\">\n",
              "  <thead>\n",
              "    <tr style=\"text-align: right;\">\n",
              "      <th></th>\n",
              "      <th>user_id</th>\n",
              "      <th>cart</th>\n",
              "      <th>purchase</th>\n",
              "      <th>remove_from_cart</th>\n",
              "      <th>view</th>\n",
              "      <th>buy</th>\n",
              "      <th>remove</th>\n",
              "    </tr>\n",
              "  </thead>\n",
              "  <tbody>\n",
              "    <tr>\n",
              "      <th>0</th>\n",
              "      <td>4103071</td>\n",
              "      <td>1.0</td>\n",
              "      <td>0.0</td>\n",
              "      <td>0.0</td>\n",
              "      <td>7.0</td>\n",
              "      <td>no</td>\n",
              "      <td>no</td>\n",
              "    </tr>\n",
              "    <tr>\n",
              "      <th>1</th>\n",
              "      <td>8846226</td>\n",
              "      <td>24.0</td>\n",
              "      <td>0.0</td>\n",
              "      <td>16.0</td>\n",
              "      <td>7.0</td>\n",
              "      <td>no</td>\n",
              "      <td>yes</td>\n",
              "    </tr>\n",
              "    <tr>\n",
              "      <th>2</th>\n",
              "      <td>9794320</td>\n",
              "      <td>13.0</td>\n",
              "      <td>0.0</td>\n",
              "      <td>4.0</td>\n",
              "      <td>3.0</td>\n",
              "      <td>no</td>\n",
              "      <td>yes</td>\n",
              "    </tr>\n",
              "    <tr>\n",
              "      <th>3</th>\n",
              "      <td>10280338</td>\n",
              "      <td>26.0</td>\n",
              "      <td>0.0</td>\n",
              "      <td>30.0</td>\n",
              "      <td>26.0</td>\n",
              "      <td>no</td>\n",
              "      <td>yes</td>\n",
              "    </tr>\n",
              "    <tr>\n",
              "      <th>5</th>\n",
              "      <td>10968431</td>\n",
              "      <td>1.0</td>\n",
              "      <td>0.0</td>\n",
              "      <td>0.0</td>\n",
              "      <td>1.0</td>\n",
              "      <td>no</td>\n",
              "      <td>no</td>\n",
              "    </tr>\n",
              "  </tbody>\n",
              "</table>\n",
              "</div>"
            ],
            "text/plain": [
              "    user_id  cart  purchase  remove_from_cart  view buy remove\n",
              "0   4103071   1.0       0.0               0.0   7.0  no     no\n",
              "1   8846226  24.0       0.0              16.0   7.0  no    yes\n",
              "2   9794320  13.0       0.0               4.0   3.0  no    yes\n",
              "3  10280338  26.0       0.0              30.0  26.0  no    yes\n",
              "5  10968431   1.0       0.0               0.0   1.0  no     no"
            ]
          },
          "metadata": {
            "tags": []
          },
          "execution_count": 50
        }
      ]
    },
    {
      "cell_type": "code",
      "metadata": {
        "id": "Iizt8CT1WwuP",
        "colab_type": "code",
        "colab": {}
      },
      "source": [
        "#split data into 2 groups\n",
        "df_pno= dfp[dfp['purchase']==0]\n",
        "df_pyes= dfp[dfp['purchase']>0]"
      ],
      "execution_count": 0,
      "outputs": []
    },
    {
      "cell_type": "code",
      "metadata": {
        "id": "UNOMzbF9W-Zz",
        "colab_type": "code",
        "outputId": "b0eb6926-cec5-4ab6-816b-543757495b68",
        "colab": {
          "base_uri": "https://localhost:8080/",
          "height": 204
        }
      },
      "source": [
        "# descrip stat\n",
        "df_pyes.head()"
      ],
      "execution_count": 0,
      "outputs": [
        {
          "output_type": "execute_result",
          "data": {
            "text/html": [
              "<div>\n",
              "<style scoped>\n",
              "    .dataframe tbody tr th:only-of-type {\n",
              "        vertical-align: middle;\n",
              "    }\n",
              "\n",
              "    .dataframe tbody tr th {\n",
              "        vertical-align: top;\n",
              "    }\n",
              "\n",
              "    .dataframe thead th {\n",
              "        text-align: right;\n",
              "    }\n",
              "</style>\n",
              "<table border=\"1\" class=\"dataframe\">\n",
              "  <thead>\n",
              "    <tr style=\"text-align: right;\">\n",
              "      <th></th>\n",
              "      <th>user_id</th>\n",
              "      <th>cart</th>\n",
              "      <th>purchase</th>\n",
              "      <th>remove_from_cart</th>\n",
              "      <th>view</th>\n",
              "      <th>buy</th>\n",
              "      <th>remove</th>\n",
              "    </tr>\n",
              "  </thead>\n",
              "  <tbody>\n",
              "    <tr>\n",
              "      <th>31</th>\n",
              "      <td>29025780</td>\n",
              "      <td>29.0</td>\n",
              "      <td>18.0</td>\n",
              "      <td>2.0</td>\n",
              "      <td>3.0</td>\n",
              "      <td>yes</td>\n",
              "      <td>yes</td>\n",
              "    </tr>\n",
              "    <tr>\n",
              "      <th>40</th>\n",
              "      <td>31229488</td>\n",
              "      <td>7.0</td>\n",
              "      <td>4.0</td>\n",
              "      <td>15.0</td>\n",
              "      <td>27.0</td>\n",
              "      <td>yes</td>\n",
              "      <td>yes</td>\n",
              "    </tr>\n",
              "    <tr>\n",
              "      <th>47</th>\n",
              "      <td>33535391</td>\n",
              "      <td>14.0</td>\n",
              "      <td>11.0</td>\n",
              "      <td>4.0</td>\n",
              "      <td>16.0</td>\n",
              "      <td>yes</td>\n",
              "      <td>yes</td>\n",
              "    </tr>\n",
              "    <tr>\n",
              "      <th>48</th>\n",
              "      <td>33609704</td>\n",
              "      <td>12.0</td>\n",
              "      <td>9.0</td>\n",
              "      <td>2.0</td>\n",
              "      <td>30.0</td>\n",
              "      <td>yes</td>\n",
              "      <td>yes</td>\n",
              "    </tr>\n",
              "    <tr>\n",
              "      <th>53</th>\n",
              "      <td>34080306</td>\n",
              "      <td>11.0</td>\n",
              "      <td>3.0</td>\n",
              "      <td>6.0</td>\n",
              "      <td>22.0</td>\n",
              "      <td>yes</td>\n",
              "      <td>yes</td>\n",
              "    </tr>\n",
              "  </tbody>\n",
              "</table>\n",
              "</div>"
            ],
            "text/plain": [
              "     user_id  cart  purchase  remove_from_cart  view  buy remove\n",
              "31  29025780  29.0      18.0               2.0   3.0  yes    yes\n",
              "40  31229488   7.0       4.0              15.0  27.0  yes    yes\n",
              "47  33535391  14.0      11.0               4.0  16.0  yes    yes\n",
              "48  33609704  12.0       9.0               2.0  30.0  yes    yes\n",
              "53  34080306  11.0       3.0               6.0  22.0  yes    yes"
            ]
          },
          "metadata": {
            "tags": []
          },
          "execution_count": 52
        }
      ]
    },
    {
      "cell_type": "code",
      "metadata": {
        "id": "6siyt9X7XCDT",
        "colab_type": "code",
        "outputId": "47eccab0-5dfc-41a1-d4f3-b0f4ae0a53f1",
        "colab": {
          "base_uri": "https://localhost:8080/",
          "height": 282
        }
      },
      "source": [
        "#check distribution of remove_from_cart for both groups\n",
        "plt.hist(df_pyes['remove_from_cart'], alpha= .5)\n",
        "\n",
        "print(stats.describe(df_pyes['remove_from_cart']))"
      ],
      "execution_count": 0,
      "outputs": [
        {
          "output_type": "stream",
          "text": [
            "DescribeResult(nobs=25423, minmax=(0.0, 2783.0), mean=16.140896039019786, variance=1935.0014676417368, skewness=17.858056250236654, kurtosis=748.9036325534663)\n"
          ],
          "name": "stdout"
        },
        {
          "output_type": "display_data",
          "data": {
            "image/png": "[encoded data removed]",
            "text/plain": [
              "<Figure size 432x288 with 1 Axes>"
            ]
          },
          "metadata": {
            "tags": []
          }
        }
      ]
    },
    {
      "cell_type": "code",
      "metadata": {
        "id": "8mnra-0-XRDF",
        "colab_type": "code",
        "outputId": "3232ebfb-ea93-4157-afb7-022d2bf2e78b",
        "colab": {
          "base_uri": "https://localhost:8080/",
          "height": 282
        }
      },
      "source": [
        "plt.hist(df_pno['remove_from_cart'], alpha= .5)\n",
        "\n",
        "print(stats.describe(df_pno['remove_from_cart']))"
      ],
      "execution_count": 0,
      "outputs": [
        {
          "output_type": "stream",
          "text": [
            "DescribeResult(nobs=108395, minmax=(0.0, 843.0), mean=3.1254209142488123, variance=250.68202947276404, skewness=17.250035691581004, kurtosis=510.693102731031)\n"
          ],
          "name": "stdout"
        },
        {
          "output_type": "display_data",
          "data": {
            "image/png": "[encoded data removed]",
            "text/plain": [
              "<Figure size 432x288 with 1 Axes>"
            ]
          },
          "metadata": {
            "tags": []
          }
        }
      ]
    },
    {
      "cell_type": "code",
      "metadata": {
        "id": "Pj_gISkdXZg2",
        "colab_type": "code",
        "outputId": "7ee0242b-04db-4ba1-b8d8-606de495654a",
        "colab": {
          "base_uri": "https://localhost:8080/",
          "height": 34
        }
      },
      "source": [
        "# data is not normally distributed so cannot run ttest--> instead run Kurskal\n",
        "stats.kruskal(df_pyes['remove_from_cart'], df_pno['remove_from_cart'])"
      ],
      "execution_count": 0,
      "outputs": [
        {
          "output_type": "execute_result",
          "data": {
            "text/plain": [
              "KruskalResult(statistic=31200.044339830914, pvalue=0.0)"
            ]
          },
          "metadata": {
            "tags": []
          },
          "execution_count": 55
        }
      ]
    },
    {
      "cell_type": "code",
      "metadata": {
        "id": "KY0aPDtgXdVd",
        "colab_type": "code",
        "colab": {}
      },
      "source": [
        "# sig difference between means --> reject null hypoth"
      ],
      "execution_count": 0,
      "outputs": []
    },
    {
      "cell_type": "code",
      "metadata": {
        "id": "Onn1iaKqXhXC",
        "colab_type": "code",
        "outputId": "dbf0163a-3bd1-462f-a38f-6df1afa94cf5",
        "colab": {
          "base_uri": "https://localhost:8080/",
          "height": 282
        }
      },
      "source": [
        "plt.plot(dfp['remove_from_cart'], dfp['purchase'],\"o\", markersize=2 )\n",
        "print('remove from cart purchase correlation', dfp['remove_from_cart'].corr(dfp['purchase']))"
      ],
      "execution_count": 0,
      "outputs": [
        {
          "output_type": "stream",
          "text": [
            "remove from cart purchase correlation 0.34989706317623726\n"
          ],
          "name": "stdout"
        },
        {
          "output_type": "display_data",
          "data": {
            "image/png": "[encoded data removed]",
            "text/plain": [
              "<Figure size 432x288 with 1 Axes>"
            ]
          },
          "metadata": {
            "tags": []
          }
        }
      ]
    },
    {
      "cell_type": "code",
      "metadata": {
        "colab_type": "code",
        "outputId": "4d6145e0-0823-4d11-cb8e-59280acf41f9",
        "id": "P6-lL-nWhCW8",
        "colab": {
          "base_uri": "https://localhost:8080/",
          "height": 279
        }
      },
      "source": [
        "sns.boxenplot('buy', 'cart', data=dfp)\n",
        "plt.show()"
      ],
      "execution_count": 0,
      "outputs": [
        {
          "output_type": "display_data",
          "data": {
            "image/png": "[encoded data removed]",
            "text/plain": [
              "<Figure size 432x288 with 1 Axes>"
            ]
          },
          "metadata": {
            "tags": []
          }
        }
      ]
    },
    {
      "cell_type": "code",
      "metadata": {
        "id": "YSg-CiQ8hQIs",
        "colab_type": "code",
        "outputId": "8c52f628-5f7f-4439-98bc-a03cac405d9c",
        "colab": {
          "base_uri": "https://localhost:8080/",
          "height": 279
        }
      },
      "source": [
        "sns.boxenplot('buy', 'remove_from_cart', data=dfp)\n",
        "plt.show()"
      ],
      "execution_count": 0,
      "outputs": [
        {
          "output_type": "display_data",
          "data": {
            "image/png": "[encoded data removed]",
            "text/plain": [
              "<Figure size 432x288 with 1 Axes>"
            ]
          },
          "metadata": {
            "tags": []
          }
        }
      ]
    },
    {
      "cell_type": "code",
      "metadata": {
        "id": "vixErqW7efqD",
        "colab_type": "code",
        "outputId": "fa40cd3d-c245-41a1-e167-6bd17b8a5a23",
        "colab": {
          "base_uri": "https://localhost:8080/",
          "height": 282
        }
      },
      "source": [
        "sns.boxenplot('buy', 'cart', hue='remove', data=dfp)\n",
        "plt.show()"
      ],
      "execution_count": 0,
      "outputs": [
        {
          "output_type": "display_data",
          "data": {
            "image/png": "[encoded data removed]",
            "text/plain": [
              "<Figure size 432x288 with 1 Axes>"
            ]
          },
          "metadata": {
            "tags": []
          }
        }
      ]
    },
    {
      "cell_type": "code",
      "metadata": {
        "id": "S7vgaJJwfHOk",
        "colab_type": "code",
        "outputId": "d94faa78-9239-4a43-f210-2edc54014d4a",
        "colab": {
          "base_uri": "https://localhost:8080/",
          "height": 279
        }
      },
      "source": [
        "sns.boxenplot('remove', 'purchase', data=dfp)\n",
        "plt.show()"
      ],
      "execution_count": 0,
      "outputs": [
        {
          "output_type": "display_data",
          "data": {
            "image/png": "[encoded data removed]",
            "text/plain": [
              "<Figure size 432x288 with 1 Axes>"
            ]
          },
          "metadata": {
            "tags": []
          }
        }
      ]
    }
  ]
}